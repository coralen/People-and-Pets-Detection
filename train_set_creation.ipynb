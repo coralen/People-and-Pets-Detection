{
 "cells": [
  {
   "cell_type": "markdown",
   "metadata": {
    "id": "EkmvBGuFu6g9"
   },
   "source": [
    "# Notebook 1: Creation of the Train Set\n",
    "\n",
    "#### **TL;DR**\n",
    "As part of our effort to create an **efficient object detection dataset** for images featuring people or pets, we used Microsoft's Florence-2-large model for labeling, normalized the bounding box coordinates, and removed small objects. Finally, we split the data into training and validation sets."
   ]
  },
  {
   "cell_type": "markdown",
   "metadata": {
    "id": "XJYzeDeEwH7v"
   },
   "source": [
    "### Imports and definitions"
   ]
  },
  {
   "cell_type": "code",
   "execution_count": 2,
   "metadata": {
    "colab": {
     "base_uri": "https://localhost:8080/"
    },
    "executionInfo": {
     "elapsed": 86725,
     "status": "ok",
     "timestamp": 1721821035693,
     "user": {
      "displayName": "Coral Engel",
      "userId": "12572229509792027901"
     },
     "user_tz": -180
    },
    "id": "ccyE6fykrktd",
    "outputId": "01d8d112-0422-4635-e0ee-612fecbd701a"
   },
   "outputs": [
    {
     "name": "stdout",
     "output_type": "stream",
     "text": [
      "Collecting flash_attn\n",
      "  Downloading flash_attn-2.6.2.tar.gz (2.6 MB)\n",
      "\u001b[2K     \u001b[90m━━━━━━━━━━━━━━━━━━━━━━━━━━━━━━━━━━━━━━━━\u001b[0m \u001b[32m2.6/2.6 MB\u001b[0m \u001b[31m27.2 MB/s\u001b[0m eta \u001b[36m0:00:00\u001b[0m\n",
      "\u001b[?25h  Preparing metadata (setup.py) ... \u001b[?25l\u001b[?25hdone\n",
      "Collecting einops\n",
      "  Downloading einops-0.8.0-py3-none-any.whl (43 kB)\n",
      "\u001b[2K     \u001b[90m━━━━━━━━━━━━━━━━━━━━━━━━━━━━━━━━━━━━━━━━\u001b[0m \u001b[32m43.2/43.2 kB\u001b[0m \u001b[31m6.7 MB/s\u001b[0m eta \u001b[36m0:00:00\u001b[0m\n",
      "\u001b[?25hCollecting timm\n",
      "  Downloading timm-1.0.7-py3-none-any.whl (2.3 MB)\n",
      "\u001b[2K     \u001b[90m━━━━━━━━━━━━━━━━━━━━━━━━━━━━━━━━━━━━━━━━\u001b[0m \u001b[32m2.3/2.3 MB\u001b[0m \u001b[31m90.2 MB/s\u001b[0m eta \u001b[36m0:00:00\u001b[0m\n",
      "\u001b[?25hRequirement already satisfied: torch in /usr/local/lib/python3.10/dist-packages (from flash_attn) (2.3.1+cu121)\n",
      "Requirement already satisfied: torchvision in /usr/local/lib/python3.10/dist-packages (from timm) (0.18.1+cu121)\n",
      "Requirement already satisfied: pyyaml in /usr/local/lib/python3.10/dist-packages (from timm) (6.0.1)\n",
      "Requirement already satisfied: huggingface_hub in /usr/local/lib/python3.10/dist-packages (from timm) (0.23.5)\n",
      "Requirement already satisfied: safetensors in /usr/local/lib/python3.10/dist-packages (from timm) (0.4.3)\n",
      "Requirement already satisfied: filelock in /usr/local/lib/python3.10/dist-packages (from huggingface_hub->timm) (3.15.4)\n",
      "Requirement already satisfied: fsspec>=2023.5.0 in /usr/local/lib/python3.10/dist-packages (from huggingface_hub->timm) (2023.6.0)\n",
      "Requirement already satisfied: packaging>=20.9 in /usr/local/lib/python3.10/dist-packages (from huggingface_hub->timm) (24.1)\n",
      "Requirement already satisfied: requests in /usr/local/lib/python3.10/dist-packages (from huggingface_hub->timm) (2.31.0)\n",
      "Requirement already satisfied: tqdm>=4.42.1 in /usr/local/lib/python3.10/dist-packages (from huggingface_hub->timm) (4.66.4)\n",
      "Requirement already satisfied: typing-extensions>=3.7.4.3 in /usr/local/lib/python3.10/dist-packages (from huggingface_hub->timm) (4.12.2)\n",
      "Requirement already satisfied: sympy in /usr/local/lib/python3.10/dist-packages (from torch->flash_attn) (1.13.0)\n",
      "Requirement already satisfied: networkx in /usr/local/lib/python3.10/dist-packages (from torch->flash_attn) (3.3)\n",
      "Requirement already satisfied: jinja2 in /usr/local/lib/python3.10/dist-packages (from torch->flash_attn) (3.1.4)\n",
      "Collecting nvidia-cuda-nvrtc-cu12==12.1.105 (from torch->flash_attn)\n",
      "  Using cached nvidia_cuda_nvrtc_cu12-12.1.105-py3-none-manylinux1_x86_64.whl (23.7 MB)\n",
      "Collecting nvidia-cuda-runtime-cu12==12.1.105 (from torch->flash_attn)\n",
      "  Using cached nvidia_cuda_runtime_cu12-12.1.105-py3-none-manylinux1_x86_64.whl (823 kB)\n",
      "Collecting nvidia-cuda-cupti-cu12==12.1.105 (from torch->flash_attn)\n",
      "  Using cached nvidia_cuda_cupti_cu12-12.1.105-py3-none-manylinux1_x86_64.whl (14.1 MB)\n",
      "Collecting nvidia-cudnn-cu12==8.9.2.26 (from torch->flash_attn)\n",
      "  Using cached nvidia_cudnn_cu12-8.9.2.26-py3-none-manylinux1_x86_64.whl (731.7 MB)\n",
      "Collecting nvidia-cublas-cu12==12.1.3.1 (from torch->flash_attn)\n",
      "  Using cached nvidia_cublas_cu12-12.1.3.1-py3-none-manylinux1_x86_64.whl (410.6 MB)\n",
      "Collecting nvidia-cufft-cu12==11.0.2.54 (from torch->flash_attn)\n",
      "  Using cached nvidia_cufft_cu12-11.0.2.54-py3-none-manylinux1_x86_64.whl (121.6 MB)\n",
      "Collecting nvidia-curand-cu12==10.3.2.106 (from torch->flash_attn)\n",
      "  Using cached nvidia_curand_cu12-10.3.2.106-py3-none-manylinux1_x86_64.whl (56.5 MB)\n",
      "Collecting nvidia-cusolver-cu12==11.4.5.107 (from torch->flash_attn)\n",
      "  Using cached nvidia_cusolver_cu12-11.4.5.107-py3-none-manylinux1_x86_64.whl (124.2 MB)\n",
      "Collecting nvidia-cusparse-cu12==12.1.0.106 (from torch->flash_attn)\n",
      "  Using cached nvidia_cusparse_cu12-12.1.0.106-py3-none-manylinux1_x86_64.whl (196.0 MB)\n",
      "Collecting nvidia-nccl-cu12==2.20.5 (from torch->flash_attn)\n",
      "  Using cached nvidia_nccl_cu12-2.20.5-py3-none-manylinux2014_x86_64.whl (176.2 MB)\n",
      "Collecting nvidia-nvtx-cu12==12.1.105 (from torch->flash_attn)\n",
      "  Using cached nvidia_nvtx_cu12-12.1.105-py3-none-manylinux1_x86_64.whl (99 kB)\n",
      "Requirement already satisfied: triton==2.3.1 in /usr/local/lib/python3.10/dist-packages (from torch->flash_attn) (2.3.1)\n",
      "Collecting nvidia-nvjitlink-cu12 (from nvidia-cusolver-cu12==11.4.5.107->torch->flash_attn)\n",
      "  Downloading nvidia_nvjitlink_cu12-12.5.82-py3-none-manylinux2014_x86_64.whl (21.3 MB)\n",
      "\u001b[2K     \u001b[90m━━━━━━━━━━━━━━━━━━━━━━━━━━━━━━━━━━━━━━━━\u001b[0m \u001b[32m21.3/21.3 MB\u001b[0m \u001b[31m69.6 MB/s\u001b[0m eta \u001b[36m0:00:00\u001b[0m\n",
      "\u001b[?25hRequirement already satisfied: numpy in /usr/local/lib/python3.10/dist-packages (from torchvision->timm) (1.25.2)\n",
      "Requirement already satisfied: pillow!=8.3.*,>=5.3.0 in /usr/local/lib/python3.10/dist-packages (from torchvision->timm) (9.4.0)\n",
      "Requirement already satisfied: MarkupSafe>=2.0 in /usr/local/lib/python3.10/dist-packages (from jinja2->torch->flash_attn) (2.1.5)\n",
      "Requirement already satisfied: charset-normalizer<4,>=2 in /usr/local/lib/python3.10/dist-packages (from requests->huggingface_hub->timm) (3.3.2)\n",
      "Requirement already satisfied: idna<4,>=2.5 in /usr/local/lib/python3.10/dist-packages (from requests->huggingface_hub->timm) (3.7)\n",
      "Requirement already satisfied: urllib3<3,>=1.21.1 in /usr/local/lib/python3.10/dist-packages (from requests->huggingface_hub->timm) (2.0.7)\n",
      "Requirement already satisfied: certifi>=2017.4.17 in /usr/local/lib/python3.10/dist-packages (from requests->huggingface_hub->timm) (2024.7.4)\n",
      "Requirement already satisfied: mpmath<1.4,>=1.1.0 in /usr/local/lib/python3.10/dist-packages (from sympy->torch->flash_attn) (1.3.0)\n",
      "Building wheels for collected packages: flash_attn\n",
      "  Building wheel for flash_attn (setup.py) ... \u001b[?25l\u001b[?25hdone\n",
      "  Created wheel for flash_attn: filename=flash_attn-2.6.2-cp310-cp310-linux_x86_64.whl size=187290325 sha256=5e6c320789a080a7ec19b1765ff597b09bf655206dd39203dc90e0f350dcea46\n",
      "  Stored in directory: /root/.cache/pip/wheels/a8/20/ee/e5b01112422114bf788fea51bb25589e7134aad5f38b1a9b09\n",
      "Successfully built flash_attn\n",
      "Installing collected packages: nvidia-nvtx-cu12, nvidia-nvjitlink-cu12, nvidia-nccl-cu12, nvidia-curand-cu12, nvidia-cufft-cu12, nvidia-cuda-runtime-cu12, nvidia-cuda-nvrtc-cu12, nvidia-cuda-cupti-cu12, nvidia-cublas-cu12, einops, nvidia-cusparse-cu12, nvidia-cudnn-cu12, nvidia-cusolver-cu12, flash_attn, timm\n",
      "Successfully installed einops-0.8.0 flash_attn-2.6.2 nvidia-cublas-cu12-12.1.3.1 nvidia-cuda-cupti-cu12-12.1.105 nvidia-cuda-nvrtc-cu12-12.1.105 nvidia-cuda-runtime-cu12-12.1.105 nvidia-cudnn-cu12-8.9.2.26 nvidia-cufft-cu12-11.0.2.54 nvidia-curand-cu12-10.3.2.106 nvidia-cusolver-cu12-11.4.5.107 nvidia-cusparse-cu12-12.1.0.106 nvidia-nccl-cu12-2.20.5 nvidia-nvjitlink-cu12-12.5.82 nvidia-nvtx-cu12-12.1.105 timm-1.0.7\n"
     ]
    }
   ],
   "source": [
    "!pip install -q kaggle\n",
    "!pip install flash_attn einops timm"
   ]
  },
  {
   "cell_type": "code",
   "execution_count": 3,
   "metadata": {
    "executionInfo": {
     "elapsed": 8083,
     "status": "ok",
     "timestamp": 1721821043772,
     "user": {
      "displayName": "Coral Engel",
      "userId": "12572229509792027901"
     },
     "user_tz": -180
    },
    "id": "N_HkqWagrRcp"
   },
   "outputs": [],
   "source": [
    "from transformers import AutoProcessor, AutoModelForCausalLM\n",
    "import os\n",
    "from google.colab import drive\n",
    "import random\n",
    "import zipfile\n",
    "import pandas as pd\n",
    "from PIL import Image, ImageOps\n",
    "import matplotlib.pyplot as plt\n",
    "import yaml\n",
    "from sklearn.model_selection import train_test_split\n",
    "import shutil\n",
    "from sklearn.preprocessing import MinMaxScaler\n",
    "import numpy as np\n",
    "import cv2\n",
    "import random\n",
    "import time\n",
    "\n",
    "%matplotlib inline\n",
    "\n",
    "custom_palette = ['#1f77b4', '#ff7f0e']"
   ]
  },
  {
   "cell_type": "code",
   "execution_count": 4,
   "metadata": {
    "colab": {
     "base_uri": "https://localhost:8080/"
    },
    "executionInfo": {
     "elapsed": 22808,
     "status": "ok",
     "timestamp": 1721821066565,
     "user": {
      "displayName": "Coral Engel",
      "userId": "12572229509792027901"
     },
     "user_tz": -180
    },
    "id": "6Fz88q_rrUIj",
    "outputId": "02693b12-7f68-48f5-c390-f231936bf993"
   },
   "outputs": [
    {
     "name": "stdout",
     "output_type": "stream",
     "text": [
      "Mounted at /content/drive\n"
     ]
    }
   ],
   "source": [
    "drive.mount('/content/drive')\n",
    "BASE_PATH = '/content/drive/MyDrive/people-and-pets-recognition/' # Set your google drive path here\n",
    "\n",
    "# Define paths for train and valid\n",
    "IMAGES_PATH = os.path.join(BASE_PATH, 'flickr30k_filtered_images')\n",
    "TRAIN_IMAGES_PATH = os.path.join(BASE_PATH, 'dataset/images/train')\n",
    "VAL_IMAGES_PATH = os.path.join(BASE_PATH, 'dataset/images/val')\n",
    "TRAIN_LABELS_PATH = os.path.join(BASE_PATH, 'dataset/labels/train')\n",
    "VAL_LABELS_PATH = os.path.join(BASE_PATH, 'dataset/labels/val')\n",
    "\n",
    "# Create directories if they don't exist\n",
    "os.makedirs(BASE_PATH, exist_ok=True)\n",
    "os.makedirs(IMAGES_PATH, exist_ok=True)\n",
    "os.makedirs(TRAIN_IMAGES_PATH, exist_ok=True)\n",
    "os.makedirs(VAL_IMAGES_PATH, exist_ok=True)\n",
    "os.makedirs(TRAIN_LABELS_PATH, exist_ok=True)\n",
    "os.makedirs(VAL_LABELS_PATH, exist_ok=True)"
   ]
  },
  {
   "cell_type": "markdown",
   "metadata": {
    "id": "_YUETg3TwP4k"
   },
   "source": [
    "### Download Flickr Images"
   ]
  },
  {
   "cell_type": "code",
   "execution_count": 5,
   "metadata": {
    "colab": {
     "base_uri": "https://localhost:8080/"
    },
    "executionInfo": {
     "elapsed": 101806,
     "status": "ok",
     "timestamp": 1721821168365,
     "user": {
      "displayName": "Coral Engel",
      "userId": "12572229509792027901"
     },
     "user_tz": -180
    },
    "id": "3sYofBhirrmJ",
    "outputId": "8c294420-f71c-4215-aef8-0ca4cda56044"
   },
   "outputs": [
    {
     "name": "stdout",
     "output_type": "stream",
     "text": [
      "Dataset URL: https://www.kaggle.com/datasets/hsankesara/flickr-image-dataset\n",
      "License(s): CC0-1.0\n",
      "Downloading flickr-image-dataset.zip to /content\n",
      "100% 8.14G/8.16G [00:35<00:00, 250MB/s]\n",
      "100% 8.16G/8.16G [00:36<00:00, 243MB/s]\n"
     ]
    }
   ],
   "source": [
    "!kaggle datasets download -d hsankesara/flickr-image-dataset\n",
    "!unzip -o -q flickr-image-dataset.zip"
   ]
  },
  {
   "cell_type": "code",
   "execution_count": 6,
   "metadata": {
    "executionInfo": {
     "elapsed": 6,
     "status": "ok",
     "timestamp": 1721821168366,
     "user": {
      "displayName": "Coral Engel",
      "userId": "12572229509792027901"
     },
     "user_tz": -180
    },
    "id": "EQGN_tJhtLDI"
   },
   "outputs": [],
   "source": [
    "csv_path = 'flickr30k_images/results.csv'\n",
    "df = pd.read_csv(csv_path, sep='|', header=None, names=['image', 'caption_number', 'caption'])"
   ]
  },
  {
   "cell_type": "code",
   "execution_count": 7,
   "metadata": {
    "executionInfo": {
     "elapsed": 5,
     "status": "ok",
     "timestamp": 1721821168366,
     "user": {
      "displayName": "Coral Engel",
      "userId": "12572229509792027901"
     },
     "user_tz": -180
    },
    "id": "RBhCnNYitR1O"
   },
   "outputs": [],
   "source": [
    "df['caption'] = df['caption'].fillna('')"
   ]
  },
  {
   "cell_type": "code",
   "execution_count": 8,
   "metadata": {
    "executionInfo": {
     "elapsed": 5,
     "status": "ok",
     "timestamp": 1721821168366,
     "user": {
      "displayName": "Coral Engel",
      "userId": "12572229509792027901"
     },
     "user_tz": -180
    },
    "id": "n-nOz3RytaKL"
   },
   "outputs": [],
   "source": [
    "keywords = {\n",
    "    'cat': [r'\\bcat\\b', r'\\bcats\\b'],\n",
    "    'dog': [r'\\bdog\\b', r'\\bdogs\\b'],\n",
    "    'person': [r'\\bmen\\b', r'\\bman\\b', r'\\bwomen\\b', r'\\bwoman\\b', r'\\bkid\\b', r'\\bkids\\b', r'\\bchildren\\b', r'\\bchildrens\\b', r'\\bchild\\b', r'\\bperson\\b']\n",
    "}"
   ]
  },
  {
   "cell_type": "code",
   "execution_count": 9,
   "metadata": {
    "executionInfo": {
     "elapsed": 1315,
     "status": "ok",
     "timestamp": 1721821169677,
     "user": {
      "displayName": "Coral Engel",
      "userId": "12572229509792027901"
     },
     "user_tz": -180
    },
    "id": "7ZMDHEM0tb53"
   },
   "outputs": [],
   "source": [
    "selected_images = []\n",
    "\n",
    "for category, words in keywords.items():\n",
    "    filtered_df = df[df['caption'].str.contains('|'.join(words), case=False, regex=True)]\n",
    "    filtered_images = filtered_df['image'].unique()\n",
    "    if category == 'cat':\n",
    "        count = 700\n",
    "    elif category == 'dog':\n",
    "        count = 700\n",
    "    elif category == 'person':\n",
    "        count = 1000\n",
    "\n",
    "    selected_images += list(filtered_images[:count])"
   ]
  },
  {
   "cell_type": "code",
   "execution_count": 10,
   "metadata": {
    "executionInfo": {
     "elapsed": 14720,
     "status": "ok",
     "timestamp": 1721821184395,
     "user": {
      "displayName": "Coral Engel",
      "userId": "12572229509792027901"
     },
     "user_tz": -180
    },
    "id": "STQln_aotgw5"
   },
   "outputs": [],
   "source": [
    "os.makedirs(IMAGES_PATH, exist_ok=True)\n",
    "image_dir = 'flickr30k_images/flickr30k_images'\n",
    "for image in selected_images:\n",
    "    src = os.path.join(image_dir, image)\n",
    "    dst = os.path.join(IMAGES_PATH, image)\n",
    "    os.system(f'cp \"{src}\" \"{dst}\"')"
   ]
  },
  {
   "cell_type": "code",
   "execution_count": 11,
   "metadata": {
    "executionInfo": {
     "elapsed": 13,
     "status": "ok",
     "timestamp": 1721821184395,
     "user": {
      "displayName": "Coral Engel",
      "userId": "12572229509792027901"
     },
     "user_tz": -180
    },
    "id": "OmgxjHOfv7Q7"
   },
   "outputs": [],
   "source": [
    "IMAGES_PATH = os.path.join(BASE_PATH, 'flickr30k_filtered_images')"
   ]
  },
  {
   "cell_type": "markdown",
   "metadata": {
    "id": "A_MPSLjYwYFz"
   },
   "source": [
    "### Microsoft's Florence-2-large\n",
    "\n",
    "An advanced natural language processing model designed for a wide range of tasks, including text generation and **image captioning**.\n",
    "The output of its object detector tool is a set of bounding boxes that enclose the objects in the image, along with class labels and confidence scores for each box. In this project, we decided to exclude the confidence scores due to concerns about complexity and reliability issues."
   ]
  },
  {
   "cell_type": "code",
   "execution_count": 12,
   "metadata": {
    "colab": {
     "base_uri": "https://localhost:8080/",
     "height": 628,
     "referenced_widgets": [
      "77fdccfdd18c431a8009c7d0c2a83d01",
      "05df8257932f41e78307ef5775ae2acb",
      "c57d53803808442bb09e4a63aa09502d",
      "eeaca6ba8923471390edcfb75b822c40",
      "6a3c08cbdf26479aad971bad49394336",
      "99c64d036abd47d5ac7931f9ba2ffef5",
      "df8d89ec656c4e7181c8f2587686093a",
      "bf70517eb4a443cfac64e8c03ddaae00",
      "09e2b93c5bd24c4a9b9b9948650c26b9",
      "af1c1d35e2334fe5ab0f2a7c222268bb",
      "45fac75f21b84bdc9e754d4201509ec0",
      "b2d612bb8f3e4b358f63c2378a184b2f",
      "28a3409043f24a2ea026935173a8f2bf",
      "067b65146a5f433d9cad0afc665a38ee",
      "4db3d77a0b174d0cad57d73be57570c4",
      "19534abdf862419b844c7b9b00862bba",
      "b97e988fba6c4bd5926b7d051b6e5cc0",
      "219bdd402a6a4342969dcfc2f1a7936a",
      "54b1271e8b854e8b86a57415fcf8d2d7",
      "db7d8bc45b4645a48b09782217c1884e",
      "0ca948481a324852b9002e11a2f54a38",
      "7c7dda9d9808412fbff64a11b8a67d7d",
      "213669c7a71545e1b2fe854b3014704e",
      "f6e760cf0aa342b48763d4636331f942",
      "e19dcab404dc4319ba8e261160cee2b9",
      "c354c75221aa48f5ab7008143f46d7a5",
      "e515dcb84207479c8203eaf2ca1658b4",
      "afc7af47f8fb48cdb37be744019e984b",
      "2317994833774b3abc1027fb00388847",
      "150d5a5ffdd3454cae8bf31be595d4a9",
      "17ede645e0ba4fb493c893564a4c6ca0",
      "adee1c90d2e64f888a8f66859f21c5a5",
      "f194f06cd01343f3a956b957843c2b3c",
      "439fc89c81e24c9ab09e5af79722cf32",
      "9036ffd4a4f14087933f1b4c1b5db0b0",
      "fd44d7a30d614edfb90dfaa857153bf0",
      "9940ee313f0546dd80558df1755c2ce7",
      "3b6bb7931bd2403da88a500559780352",
      "d12f9c02881f4faf9a8a9904fd94615a",
      "a9c4407921864aaea2535966388cf20a",
      "2a903be01e5b4067a3ed85d993698fa8",
      "92472178517e4509891e649f9f362ff3",
      "577c671467864249ba99206de6c35acc",
      "61edebd36ae74e049750bc38ff92030d",
      "c849980e978e41c5ac1db6332c4a2310",
      "625a96b7096449abb66935133c7695c9",
      "ae16c659ebea431993d64709a3869cb0",
      "db5b5e98aeb34e07bb7d7ae77a608509",
      "9b7d61574e0f460aa9d82e00ea56e644",
      "f5db37a5655b4f5c84c807dfc284cada",
      "220e93bd09064212b476f9f1cb5f24cf",
      "fec3268b77e24775bf10404ff710ad1f",
      "dac3ca6c984a4ae0bff14a0c32917f57",
      "28583354385a492692756d41c77c7dfe",
      "140c9b229f1d41439336839a678e0060",
      "5cf639dd0c1f4f7fa2a34c270dfb0f9b",
      "6d6ca3aadc49476c86915853447349de",
      "745be42ba9c54fd5953111941db52595",
      "f2b7a0da5a9946fb8fc13dd6c3cff01c",
      "0f3d56cf8d0943ef903db9ca22ea0b97",
      "8e718f9b7afc429f9e2b1e58061345ea",
      "1253cf48e3f24aa5867c377670cac8ef",
      "9a3a288a1b9c419087575b44408c17e9",
      "a50486d0815246bbb73bc7fbcbf71f4d",
      "389ef3eee5944cc584b331ace7178bc8",
      "2acdc78afd33476880ebc95a3d515d8b",
      "9f71cac4d777490dab2fc017f3a3b57a",
      "da65023c71d3458690672099aecdd6ae",
      "ac1732fdf3ca422f81ff4d080e832c29",
      "941697830c494cf491ec45b8093d2bc4",
      "9957664993684eb88bb0b2c95bf3ef70",
      "354d2668ee1f43ee99185798d2d3211b",
      "a49f08757ede4453bbbe4bb83c6817c4",
      "3e7248cc0e1344bf8e618f89b8ae159f",
      "7510d30fe6e7492d922c64e794a196b2",
      "dfdb7675f15643de98703c329a5875ff",
      "f5b8d14037eb4f3ba55d2aac78cb6f02",
      "b655553a64a14131a0d94a04360ddd3d",
      "7b1fce36692d4aeb8b821389b4b18ae3",
      "c0652abfddb84d269569f1a8e7fcaa7c",
      "6dcc706e154e46e2b7b18dbad80447f6",
      "3b4dbc47b39e4cd2aeda130eb6e8fab1",
      "4466b894c382470fb17fa8cb123079f9",
      "ca067077d7514459b2ce325bbf6f189f",
      "1ae17691fd0748c0a5261c4a7f37ba79",
      "27dd8161c40e42e0a9df91ba2cc9b766",
      "7e13418afcde49c5a89606779233c12a",
      "2ea43f15c78449be93e76a486f605205",
      "d70320c6161145c2a6a25f6c76a1b7c5",
      "39f551bc153f4ec1a1de9252d447465d",
      "2edee6eaa4c24bb8afdb4b91d7ca99a4",
      "c62feaf9b9134d50a6e8ec18908d85c6",
      "cc4e5d9ac9684c658f8da96f7e9779bf",
      "b7e1d5742f7944ee8ff0de393bafa502",
      "09f574d5c1dc4f5eab1bc7eb6c673cc4",
      "6de36dfc27ad4df39199725eacca9396",
      "29ca3250e80e421aa64c6ca6fbe1dd56",
      "4ce89c8a433f498db66ab979d74b1a6d",
      "bb93feb8a136472380c17e7a994f67bc",
      "fce6c84ac1574aad93367ffee4ed0e79",
      "6c913f5f53274e43b19c0ec578476733",
      "04f6e100b3e94218a2f02881a7a7642e",
      "8cb7e3f0215243aab9f38cf192b72882",
      "83b662893a704ce7add538cacf9c8f9a",
      "b4271e5c41c5461f8d65ec236b58f1db",
      "41398c1e861a405c9182b909a54c960d",
      "bb6a3fba54834ce8b1a1fc52374336c0",
      "8242d77b2288459d957c840711ecf0e6",
      "2737e7e3409649fcad6b678fa0ae1877",
      "f8804af54e00458ead57f4ace27bb72b"
     ]
    },
    "executionInfo": {
     "elapsed": 19386,
     "status": "ok",
     "timestamp": 1721821203769,
     "user": {
      "displayName": "Coral Engel",
      "userId": "12572229509792027901"
     },
     "user_tz": -180
    },
    "id": "b-AAYJ-mwbMY",
    "outputId": "21ea1927-f2b8-48db-e4e3-b950c81c2036"
   },
   "outputs": [
    {
     "name": "stderr",
     "output_type": "stream",
     "text": [
      "/usr/local/lib/python3.10/dist-packages/huggingface_hub/utils/_token.py:89: UserWarning: \n",
      "The secret `HF_TOKEN` does not exist in your Colab secrets.\n",
      "To authenticate with the Hugging Face Hub, create a token in your settings tab (https://huggingface.co/settings/tokens), set it as secret in your Google Colab and restart your session.\n",
      "You will be able to reuse this secret in all of your notebooks.\n",
      "Please note that authentication is recommended but still optional to access public models or datasets.\n",
      "  warnings.warn(\n"
     ]
    },
    {
     "data": {
      "application/vnd.jupyter.widget-view+json": {
       "model_id": "77fdccfdd18c431a8009c7d0c2a83d01",
       "version_major": 2,
       "version_minor": 0
      },
      "text/plain": [
       "config.json:   0%|          | 0.00/2.44k [00:00<?, ?B/s]"
      ]
     },
     "metadata": {},
     "output_type": "display_data"
    },
    {
     "data": {
      "application/vnd.jupyter.widget-view+json": {
       "model_id": "b2d612bb8f3e4b358f63c2378a184b2f",
       "version_major": 2,
       "version_minor": 0
      },
      "text/plain": [
       "configuration_florence2.py:   0%|          | 0.00/15.1k [00:00<?, ?B/s]"
      ]
     },
     "metadata": {},
     "output_type": "display_data"
    },
    {
     "name": "stderr",
     "output_type": "stream",
     "text": [
      "A new version of the following files was downloaded from https://huggingface.co/microsoft/Florence-2-large:\n",
      "- configuration_florence2.py\n",
      ". Make sure to double-check they do not contain any added malicious code. To avoid downloading new versions of the code file, you can pin a revision.\n"
     ]
    },
    {
     "data": {
      "application/vnd.jupyter.widget-view+json": {
       "model_id": "213669c7a71545e1b2fe854b3014704e",
       "version_major": 2,
       "version_minor": 0
      },
      "text/plain": [
       "modeling_florence2.py:   0%|          | 0.00/127k [00:00<?, ?B/s]"
      ]
     },
     "metadata": {},
     "output_type": "display_data"
    },
    {
     "name": "stderr",
     "output_type": "stream",
     "text": [
      "A new version of the following files was downloaded from https://huggingface.co/microsoft/Florence-2-large:\n",
      "- modeling_florence2.py\n",
      ". Make sure to double-check they do not contain any added malicious code. To avoid downloading new versions of the code file, you can pin a revision.\n"
     ]
    },
    {
     "data": {
      "application/vnd.jupyter.widget-view+json": {
       "model_id": "439fc89c81e24c9ab09e5af79722cf32",
       "version_major": 2,
       "version_minor": 0
      },
      "text/plain": [
       "pytorch_model.bin:   0%|          | 0.00/1.54G [00:00<?, ?B/s]"
      ]
     },
     "metadata": {},
     "output_type": "display_data"
    },
    {
     "data": {
      "application/vnd.jupyter.widget-view+json": {
       "model_id": "c849980e978e41c5ac1db6332c4a2310",
       "version_major": 2,
       "version_minor": 0
      },
      "text/plain": [
       "generation_config.json:   0%|          | 0.00/51.0 [00:00<?, ?B/s]"
      ]
     },
     "metadata": {},
     "output_type": "display_data"
    },
    {
     "data": {
      "application/vnd.jupyter.widget-view+json": {
       "model_id": "5cf639dd0c1f4f7fa2a34c270dfb0f9b",
       "version_major": 2,
       "version_minor": 0
      },
      "text/plain": [
       "preprocessor_config.json:   0%|          | 0.00/806 [00:00<?, ?B/s]"
      ]
     },
     "metadata": {},
     "output_type": "display_data"
    },
    {
     "data": {
      "application/vnd.jupyter.widget-view+json": {
       "model_id": "9f71cac4d777490dab2fc017f3a3b57a",
       "version_major": 2,
       "version_minor": 0
      },
      "text/plain": [
       "processing_florence2.py:   0%|          | 0.00/46.4k [00:00<?, ?B/s]"
      ]
     },
     "metadata": {},
     "output_type": "display_data"
    },
    {
     "name": "stderr",
     "output_type": "stream",
     "text": [
      "A new version of the following files was downloaded from https://huggingface.co/microsoft/Florence-2-large:\n",
      "- processing_florence2.py\n",
      ". Make sure to double-check they do not contain any added malicious code. To avoid downloading new versions of the code file, you can pin a revision.\n"
     ]
    },
    {
     "data": {
      "application/vnd.jupyter.widget-view+json": {
       "model_id": "b655553a64a14131a0d94a04360ddd3d",
       "version_major": 2,
       "version_minor": 0
      },
      "text/plain": [
       "tokenizer_config.json:   0%|          | 0.00/34.0 [00:00<?, ?B/s]"
      ]
     },
     "metadata": {},
     "output_type": "display_data"
    },
    {
     "data": {
      "application/vnd.jupyter.widget-view+json": {
       "model_id": "d70320c6161145c2a6a25f6c76a1b7c5",
       "version_major": 2,
       "version_minor": 0
      },
      "text/plain": [
       "vocab.json:   0%|          | 0.00/1.10M [00:00<?, ?B/s]"
      ]
     },
     "metadata": {},
     "output_type": "display_data"
    },
    {
     "data": {
      "application/vnd.jupyter.widget-view+json": {
       "model_id": "fce6c84ac1574aad93367ffee4ed0e79",
       "version_major": 2,
       "version_minor": 0
      },
      "text/plain": [
       "tokenizer.json:   0%|          | 0.00/1.36M [00:00<?, ?B/s]"
      ]
     },
     "metadata": {},
     "output_type": "display_data"
    }
   ],
   "source": [
    "model_id = 'microsoft/Florence-2-large'\n",
    "model = AutoModelForCausalLM.from_pretrained(model_id, trust_remote_code=True, token=False).eval().cuda()\n",
    "processor = AutoProcessor.from_pretrained(model_id, trust_remote_code=True, token=False)"
   ]
  },
  {
   "cell_type": "code",
   "execution_count": 13,
   "metadata": {
    "executionInfo": {
     "elapsed": 13,
     "status": "ok",
     "timestamp": 1721821203770,
     "user": {
      "displayName": "Coral Engel",
      "userId": "12572229509792027901"
     },
     "user_tz": -180
    },
    "id": "pWYFfLydwitv"
   },
   "outputs": [],
   "source": [
    "def florence(task_prompt, image):\n",
    "    prompt = task_prompt\n",
    "    inputs = processor(text=prompt, images=image, return_tensors=\"pt\")\n",
    "    generated_ids = model.generate(\n",
    "      input_ids=inputs[\"input_ids\"].cuda(),\n",
    "      pixel_values=inputs[\"pixel_values\"].cuda(),\n",
    "      max_new_tokens=1024,\n",
    "      early_stopping=False,\n",
    "      do_sample=False,\n",
    "      num_beams=3,\n",
    "    )\n",
    "    generated_text = processor.batch_decode(generated_ids, skip_special_tokens=False)[0]\n",
    "    parsed_answer = processor.post_process_generation(\n",
    "        generated_text,\n",
    "        task=task_prompt,\n",
    "        image_size=(image.width, image.height)\n",
    "    )\n",
    "    return parsed_answer"
   ]
  },
  {
   "cell_type": "code",
   "execution_count": 14,
   "metadata": {
    "executionInfo": {
     "elapsed": 12,
     "status": "ok",
     "timestamp": 1721821203770,
     "user": {
      "displayName": "Coral Engel",
      "userId": "12572229509792027901"
     },
     "user_tz": -180
    },
    "id": "Ip5UPwkOxbTA"
   },
   "outputs": [],
   "source": [
    "# Update get_label to also return confidence\n",
    "def get_label(labels, bboxes):\n",
    "    pet_label = 'pet'\n",
    "    person_label = 'person'\n",
    "    animal_labels = ['cat', 'dog']\n",
    "    people_labels = ['man', 'woman', 'person', 'human face', 'boy', 'girl']\n",
    "\n",
    "    for label, bbox in zip(labels, bboxes):\n",
    "        if label in animal_labels:\n",
    "            return pet_label, bbox\n",
    "        if label in people_labels:\n",
    "            return person_label, bbox\n",
    "    return None, None\n"
   ]
  },
  {
   "cell_type": "markdown",
   "metadata": {
    "id": "blhEF3FsxdKJ"
   },
   "source": [
    "### Deciding Min/Max values for images\n",
    "\n",
    "Later in this notebook we'll present our selected model, which is **YOLOv8**. This model has **built-in functionality to resize images** during the training and inference processes. This resizing capability ensures that all images are transformed to a **consistent size** that the model can handle efficiently."
   ]
  },
  {
   "cell_type": "markdown",
   "metadata": {
    "id": "HPeAwf1gxeZf"
   },
   "source": [
    "### Deciding Min/Max values for objects\n",
    "\n",
    "To enhance the accuracy of the labeling process, we decided to exclude labels of objects smaller than 32x32 pixels.\n",
    "Objects of this size are typically not the main subjects of interest in the images and may introduce noise into the model training process.\n",
    "\n",
    "In the next cell, you will find an example that illustrates the efficient impact of our choice to filter out objects of this size."
   ]
  },
  {
   "cell_type": "code",
   "execution_count": 15,
   "metadata": {
    "executionInfo": {
     "elapsed": 12,
     "status": "ok",
     "timestamp": 1721821203770,
     "user": {
      "displayName": "Coral Engel",
      "userId": "12572229509792027901"
     },
     "user_tz": -180
    },
    "id": "I8kxBZlNxdmA"
   },
   "outputs": [],
   "source": [
    "def clean_small_objects(result, min_size=(32, 32)):\n",
    "    labels = result['<OD>']['labels']\n",
    "    bboxes = result['<OD>']['bboxes']\n",
    "\n",
    "    filtered_labels = []\n",
    "    filtered_bboxes = []\n",
    "\n",
    "    for label, bbox in zip(labels, bboxes):\n",
    "        width = bbox[2] - bbox[0]\n",
    "        height = bbox[3] - bbox[1]\n",
    "\n",
    "        if width >= min_size[0] and height >= min_size[1]:\n",
    "            filtered_labels.append(label)\n",
    "            filtered_bboxes.append(bbox)\n",
    "\n",
    "    return filtered_labels, filtered_bboxes"
   ]
  },
  {
   "cell_type": "markdown",
   "metadata": {
    "id": "X6wJRmgXxjaA"
   },
   "source": [
    "#### Example for excluding small objects\n",
    "\n",
    "Excluding small objects (smaller than 32x32 pixels) has significantly **reduced the number of labels** for this image.\n",
    "\n",
    "Initially, the labels included all the birds in the image. After applying the exclusion criteria, the noisy birds in the background were removed. This process effectively removes insignificant objects, potentially **enhancing the model's performance** by focusing on more meaningful objects."
   ]
  },
  {
   "cell_type": "code",
   "execution_count": 16,
   "metadata": {
    "executionInfo": {
     "elapsed": 972,
     "status": "ok",
     "timestamp": 1721821204730,
     "user": {
      "displayName": "Coral Engel",
      "userId": "12572229509792027901"
     },
     "user_tz": -180
    },
    "id": "__ODYzPB39pK"
   },
   "outputs": [],
   "source": [
    "image_url = 'https://im.indiatimes.in/media/content/2017/Apr/1www_libertylines_it_1493371175_725x725.jpg'\n",
    "!wget -O person.jpg \"{image_url}\" -q"
   ]
  },
  {
   "cell_type": "code",
   "execution_count": 17,
   "metadata": {
    "colab": {
     "base_uri": "https://localhost:8080/",
     "height": 471
    },
    "executionInfo": {
     "elapsed": 4584,
     "status": "ok",
     "timestamp": 1721821209311,
     "user": {
      "displayName": "Coral Engel",
      "userId": "12572229509792027901"
     },
     "user_tz": -180
    },
    "id": "Wv0oKgcDxjzv",
    "outputId": "4527336b-5312-43a5-c822-ef3e55e38656"
   },
   "outputs": [
    {
     "name": "stdout",
     "output_type": "stream",
     "text": [
      "Labels before: ['bird', 'bird', 'bird', 'bird', 'bird', 'bird', 'bird', 'bird', 'bird', 'bird', 'bird', 'bird', 'bird', 'bird', 'bird', 'bird', 'bird', 'bird', 'bird', 'bird', 'bird', 'bird', 'bird', 'bird', 'bird', 'bird', 'bird', 'bird', 'bird', 'bird', 'bird', 'bird', 'bird', 'bird', 'bird', 'bird', 'person']\n",
      "Labels after: ['bird', 'bird', 'bird', 'bird', 'bird', 'bird', 'person']\n"
     ]
    },
    {
     "data": {
      "image/png": "[encoded data removed]",
      "text/plain": [
       "<PIL.JpegImagePlugin.JpegImageFile image mode=RGB size=725x398>"
      ]
     },
     "execution_count": 17,
     "metadata": {},
     "output_type": "execute_result"
    }
   ],
   "source": [
    "image_path = 'person.jpg'\n",
    "image = Image.open(image_path)\n",
    "\n",
    "task_prompt = '<OD>'\n",
    "result_text = florence(task_prompt, image)\n",
    "small_object_labels = result_text['<OD>']['labels']\n",
    "print(\"Labels before: \" + str(small_object_labels))\n",
    "small_object_labels = clean_small_objects(result_text)[0]\n",
    "print(\"Labels after: \" + str(small_object_labels))\n",
    "\n",
    "image"
   ]
  },
  {
   "cell_type": "markdown",
   "metadata": {
    "id": "Ef6uwtwUxnK8"
   },
   "source": [
    "### Building the Dataset with Florence-2-large\n",
    "\n",
    "We are constructing a dataset of images and labels containing 'person' and 'pet' using Microsoft's Florence-2-large tool. The implementation processes images in batches of 500 for resource efficiency, particularly due to the use of GPU.\n",
    "\n",
    "For each image, we:\n",
    "\n",
    "1. **Add a label**: Utilize the Florence model to generate labels ('person' or 'pet'). **Note:** There ate images with both person and pet, and in these photos we chose to prioritize the pets.\n",
    "2. **Reduce labels**: Clean the labels generated by Florence by removing small objects (smaller than 32x32 pixels).\n",
    "3. **Save the label**: Store 'person' or 'Pet' label for each image.\n",
    "\n",
    "Using these images and their corresponding labels, we then build the dataset."
   ]
  },
  {
   "cell_type": "code",
   "execution_count": 18,
   "metadata": {
    "executionInfo": {
     "elapsed": 4,
     "status": "ok",
     "timestamp": 1721821209311,
     "user": {
      "displayName": "Coral Engel",
      "userId": "12572229509792027901"
     },
     "user_tz": -180
    },
    "id": "L9AKb6r3xnkf"
   },
   "outputs": [],
   "source": [
    "filenames = [f for f in os.listdir(IMAGES_PATH) if f.endswith('.jpg')]"
   ]
  },
  {
   "cell_type": "code",
   "execution_count": 19,
   "metadata": {
    "executionInfo": {
     "elapsed": 4,
     "status": "ok",
     "timestamp": 1721821209311,
     "user": {
      "displayName": "Coral Engel",
      "userId": "12572229509792027901"
     },
     "user_tz": -180
    },
    "id": "6dUzljD9ysJ6"
   },
   "outputs": [],
   "source": [
    "# Function to process images and generate labels, coordinates, and confidences\n",
    "def classify_images_with_florence(filenames):\n",
    "    images = []\n",
    "    labels = []\n",
    "    coordinates = []\n",
    "\n",
    "    for filename in filenames:\n",
    "        file_path = os.path.join(IMAGES_PATH, filename)\n",
    "        try:\n",
    "            image = Image.open(file_path)\n",
    "            task_prompt = '<OD>'\n",
    "            result_text = florence(task_prompt, image)\n",
    "            labels_clean, bboxes_clean = clean_small_objects(result_text)\n",
    "            label, bbox = get_label(labels_clean, bboxes_clean)\n",
    "\n",
    "            if label:\n",
    "                images.append(filename)\n",
    "                labels.append(label)\n",
    "                coordinates.append(bbox)\n",
    "            else:\n",
    "                images.append('None')\n",
    "                labels.append('None')\n",
    "                coordinates.append('None')\n",
    "\n",
    "        except Exception as e:\n",
    "            print(f\"Error processing image {file_path}: {e}\")\n",
    "\n",
    "    return images, labels, coordinates"
   ]
  },
  {
   "cell_type": "code",
   "execution_count": 20,
   "metadata": {
    "executionInfo": {
     "elapsed": 2015269,
     "status": "ok",
     "timestamp": 1721823224577,
     "user": {
      "displayName": "Coral Engel",
      "userId": "12572229509792027901"
     },
     "user_tz": -180
    },
    "id": "HadiKkwkyt79"
   },
   "outputs": [],
   "source": [
    "# Process all files initially to gather all labels\n",
    "all_images, all_labels, all_coordinates = classify_images_with_florence(filenames)"
   ]
  },
  {
   "cell_type": "code",
   "execution_count": 21,
   "metadata": {
    "executionInfo": {
     "elapsed": 52,
     "status": "ok",
     "timestamp": 1721823224577,
     "user": {
      "displayName": "Coral Engel",
      "userId": "12572229509792027901"
     },
     "user_tz": -180
    },
    "id": "qGFTpwIwyu_5"
   },
   "outputs": [],
   "source": [
    "# Create DataFrame for labels\n",
    "dataset = pd.DataFrame({'image': all_images, 'label': all_labels, 'coordinates': all_coordinates})"
   ]
  },
  {
   "cell_type": "markdown",
   "metadata": {
    "id": "kyRiWLXdywww"
   },
   "source": [
    "### Data cleaning\n",
    "\n",
    "Cleaning and preprocessing the data is the most important step for the learning process of the model. In this case, it's crucial to deal with missing labels or coordinated since they are a great part of the model training process."
   ]
  },
  {
   "cell_type": "code",
   "execution_count": 22,
   "metadata": {
    "executionInfo": {
     "elapsed": 34,
     "status": "ok",
     "timestamp": 1721823224577,
     "user": {
      "displayName": "Coral Engel",
      "userId": "12572229509792027901"
     },
     "user_tz": -180
    },
    "id": "UwG708Czyxhi"
   },
   "outputs": [],
   "source": [
    "dataset['label'] = dataset['label'].replace('None', None)\n",
    "dataset['coordinates'] = dataset['coordinates'].replace('None', None)"
   ]
  },
  {
   "cell_type": "code",
   "execution_count": 23,
   "metadata": {
    "colab": {
     "base_uri": "https://localhost:8080/"
    },
    "executionInfo": {
     "elapsed": 30,
     "status": "ok",
     "timestamp": 1721823224578,
     "user": {
      "displayName": "Coral Engel",
      "userId": "12572229509792027901"
     },
     "user_tz": -180
    },
    "id": "jGAOdpNOyyvr",
    "outputId": "f3d7ef01-8eef-436b-8128-9cd48f080073"
   },
   "outputs": [
    {
     "name": "stdout",
     "output_type": "stream",
     "text": [
      "<class 'pandas.core.frame.DataFrame'>\n",
      "RangeIndex: 1751 entries, 0 to 1750\n",
      "Data columns (total 3 columns):\n",
      " #   Column       Non-Null Count  Dtype \n",
      "---  ------       --------------  ----- \n",
      " 0   image        1751 non-null   object\n",
      " 1   label        1722 non-null   object\n",
      " 2   coordinates  1722 non-null   object\n",
      "dtypes: object(3)\n",
      "memory usage: 41.2+ KB\n"
     ]
    }
   ],
   "source": [
    "# Check for NaNs\n",
    "dataset.info()"
   ]
  },
  {
   "cell_type": "code",
   "execution_count": 24,
   "metadata": {
    "executionInfo": {
     "elapsed": 32,
     "status": "ok",
     "timestamp": 1721823224583,
     "user": {
      "displayName": "Coral Engel",
      "userId": "12572229509792027901"
     },
     "user_tz": -180
    },
    "id": "BGPefcMiy1NS"
   },
   "outputs": [],
   "source": [
    "cleaned_dataset = dataset.dropna().loc[(dataset['image'] != 'None') & (dataset['label'] != 'None') & dataset['coordinates'] != 'None']"
   ]
  },
  {
   "cell_type": "code",
   "execution_count": 25,
   "metadata": {
    "executionInfo": {
     "elapsed": 16692,
     "status": "ok",
     "timestamp": 1721823241249,
     "user": {
      "displayName": "Coral Engel",
      "userId": "12572229509792027901"
     },
     "user_tz": -180
    },
    "id": "0BkxH1DBy2NM"
   },
   "outputs": [],
   "source": [
    "# Function to normalize a single bounding box using the image size\n",
    "def normalize_single_bbox(bbox, image_size):\n",
    "    x_min, y_min, x_max, y_max = bbox\n",
    "    img_width, img_height = image_size\n",
    "    x_center = ((x_min + x_max) / 2) / img_width\n",
    "    y_center = ((y_min + y_max) / 2) / img_height\n",
    "    width = (x_max - x_min) / img_width\n",
    "    height = (y_max - y_min) / img_height\n",
    "    return [x_center, y_center, width, height]\n",
    "\n",
    "# Function to normalize all bounding boxes in a list\n",
    "def normalize_bboxes(bboxes, image_size):\n",
    "    return [normalize_single_bbox(bbox, image_size) for bbox in bboxes]\n",
    "\n",
    "# Normalize the coordinates column\n",
    "def get_image_size(image_path):\n",
    "    image = cv2.imread(image_path)\n",
    "    return image.shape[1], image.shape[0]  # (width, height)\n",
    "\n",
    "def normalize_row(row):\n",
    "    image_path = os.path.join(IMAGES_PATH, row['image'])\n",
    "    image_size = get_image_size(image_path)\n",
    "    return normalize_single_bbox(row['coordinates'], image_size)\n",
    "\n",
    "cleaned_dataset['coordinates'] = cleaned_dataset.apply(normalize_row, axis=1)"
   ]
  },
  {
   "cell_type": "code",
   "execution_count": 26,
   "metadata": {
    "colab": {
     "base_uri": "https://localhost:8080/",
     "height": 471
    },
    "executionInfo": {
     "elapsed": 17,
     "status": "ok",
     "timestamp": 1721823241250,
     "user": {
      "displayName": "Coral Engel",
      "userId": "12572229509792027901"
     },
     "user_tz": -180
    },
    "id": "5oGqDg09y3aY",
    "outputId": "2962f8be-b52a-4ef9-b0da-8a8c99ac4fe6"
   },
   "outputs": [
    {
     "name": "stdout",
     "output_type": "stream",
     "text": [
      "[0.6430000193681498, 0.5045, 0.4090000224262787, 0.632]\n",
      "[210, 94, 405, 410]\n"
     ]
    },
    {
     "data": {
      "image/png": "[encoded data removed]",
      "text/plain": [
       "<Figure size 640x480 with 1 Axes>"
      ]
     },
     "metadata": {},
     "output_type": "display_data"
    }
   ],
   "source": [
    "# Function to denormalize the bounding box for visualization\n",
    "def denormalize_single_bbox(bbox, image_size):\n",
    "    x_center, y_center, width, height = bbox\n",
    "    img_width, img_height = image_size\n",
    "    x_min = int((x_center - width / 2) * img_width)\n",
    "    y_min = int((y_center - height / 2) * img_height)\n",
    "    x_max = int((x_center + width / 2) * img_width)\n",
    "    y_max = int((y_center + height / 2) * img_height)\n",
    "    return [x_min, y_min, x_max, y_max]\n",
    "\n",
    "# Function to visualize an image with its bounding box\n",
    "def visualize_bbox(image, bbox):\n",
    "    x_min, y_min, x_max, y_max = bbox\n",
    "    image_copy = image.copy()\n",
    "    cv2.rectangle(image_copy, (x_min, y_min), (x_max, y_max), (255, 0, 0), 2)\n",
    "    plt.imshow(cv2.cvtColor(image_copy, cv2.COLOR_BGR2RGB))\n",
    "    plt.show()\n",
    "\n",
    "sample_index = 15\n",
    "sample_image_path = cleaned_dataset.loc[sample_index, 'image']\n",
    "sample_image_path = os.path.join(IMAGES_PATH, sample_image_path)\n",
    "sample_image = cv2.imread(sample_image_path)\n",
    "\n",
    "image_size = sample_image.shape[1], sample_image.shape[0]\n",
    "sample_bbox = cleaned_dataset.loc[sample_index, 'coordinates']\n",
    "denormalized_bbox = denormalize_single_bbox(sample_bbox, image_size)\n",
    "\n",
    "print(sample_bbox)\n",
    "print(denormalized_bbox)\n",
    "visualize_bbox(sample_image, denormalized_bbox)"
   ]
  },
  {
   "cell_type": "markdown",
   "metadata": {
    "id": "c-kqjGWMy5kN"
   },
   "source": [
    "### Final count of images for person and pet classes"
   ]
  },
  {
   "cell_type": "code",
   "execution_count": 27,
   "metadata": {
    "executionInfo": {
     "elapsed": 13,
     "status": "ok",
     "timestamp": 1721823241250,
     "user": {
      "displayName": "Coral Engel",
      "userId": "12572229509792027901"
     },
     "user_tz": -180
    },
    "id": "CC-O2uJQy5-s"
   },
   "outputs": [],
   "source": [
    "# Count the occurrences of each label\n",
    "label_counts = cleaned_dataset['label'].apply(lambda x: 'Person' if 'person' in x else 'Pet' if 'pet' in x else 'Other')\n",
    "label_counts = label_counts.value_counts()\n",
    "\n",
    "# Data for plotting\n",
    "labels = ['Person', 'Pet']\n",
    "counts = [label_counts.get('Person', 0), label_counts.get('Pet', 0)]\n",
    "total_count = sum(counts)"
   ]
  },
  {
   "cell_type": "code",
   "execution_count": 28,
   "metadata": {
    "colab": {
     "base_uri": "https://localhost:8080/",
     "height": 487
    },
    "executionInfo": {
     "elapsed": 12,
     "status": "ok",
     "timestamp": 1721823241250,
     "user": {
      "displayName": "Coral Engel",
      "userId": "12572229509792027901"
     },
     "user_tz": -180
    },
    "id": "Hblem1qSy71g",
    "outputId": "3d48a08a-8f9a-4a79-e9c4-50a81756ee65"
   },
   "outputs": [
    {
     "data": {
      "image/png": "[encoded data removed]",
      "text/plain": [
       "<Figure size 500x500 with 1 Axes>"
      ]
     },
     "metadata": {},
     "output_type": "display_data"
    }
   ],
   "source": [
    "# Visualize\n",
    "\n",
    "fig, ax = plt.subplots(figsize=(5, 5))\n",
    "ax.bar(labels, counts, color=custom_palette)\n",
    "\n",
    "for i, count in enumerate(counts):\n",
    "    ax.text(i, count + 1, str(count), ha='center', va='bottom')\n",
    "\n",
    "plt.title(f'Amount of Person Label vs. Pet Label, Total: {total_count}')\n",
    "plt.xlabel('Label')\n",
    "plt.ylabel('Count')\n",
    "plt.xticks(rotation=0)\n",
    "plt.show()"
   ]
  },
  {
   "cell_type": "markdown",
   "metadata": {
    "id": "zdtIzDIwy9dG"
   },
   "source": [
    "### Use of TTA and Ensembles to verify the Florence annotations\n",
    "\n",
    "Using Test Time Augmentations (TTA) and model ensembles can help verify the annotations made with Florence for our YOLO project:\n",
    "* TTA - Involves applying different augmentations during testing and combining the predictions, which helps identify any mismatches with the original labels.\n",
    "\n",
    "* Model ensembles - Provide multiple predictions for each image, and comparing these with the original annotations can reveal potential errors.\n",
    "\n",
    "This approach ensures our labeled data is accurate, improving the reliability of our YOLO model's training inputs."
   ]
  },
  {
   "cell_type": "markdown",
   "metadata": {
    "id": "V_saMdoUzAiG"
   },
   "source": [
    "### Split to Train and Validation\n",
    "\n",
    "Split the data into train and validation, with a minimum of **500 train** images and labels, and **100 valid** images and labels **per class**.\n"
   ]
  },
  {
   "cell_type": "code",
   "execution_count": 29,
   "metadata": {
    "executionInfo": {
     "elapsed": 12,
     "status": "ok",
     "timestamp": 1721823241251,
     "user": {
      "displayName": "Coral Engel",
      "userId": "12572229509792027901"
     },
     "user_tz": -180
    },
    "id": "gwps-aRLzB8F"
   },
   "outputs": [],
   "source": [
    "# Split by class\n",
    "person_images = cleaned_dataset[cleaned_dataset['label'] == 'person']\n",
    "pet_images = cleaned_dataset[cleaned_dataset['label'] == 'pet']"
   ]
  },
  {
   "cell_type": "code",
   "execution_count": 30,
   "metadata": {
    "executionInfo": {
     "elapsed": 12,
     "status": "ok",
     "timestamp": 1721823241251,
     "user": {
      "displayName": "Coral Engel",
      "userId": "12572229509792027901"
     },
     "user_tz": -180
    },
    "id": "g0kxopc1zC_f"
   },
   "outputs": [],
   "source": [
    "# Ensure minimum 500 training and 100 validation images for each class\n",
    "def sample_minimum_images(df, min_train, min_val):\n",
    "    if len(df) < min_train + min_val:\n",
    "        raise ValueError(f\"Not enough images for class. Found {len(df)}, required {min_train + min_val}.\")\n",
    "\n",
    "    train_images, val_images = train_test_split(df, test_size=min_val, random_state=42)\n",
    "    if len(train_images) < min_train:\n",
    "        train_images = train_images.append(df.sample(min_train - len(train_images), replace=True, random_state=42))\n",
    "    if len(val_images) < min_val:\n",
    "        val_images = val_images.append(df.sample(min_val - len(val_images), replace=True, random_state=42))\n",
    "    return train_images, val_images\n"
   ]
  },
  {
   "cell_type": "code",
   "execution_count": 31,
   "metadata": {
    "executionInfo": {
     "elapsed": 12,
     "status": "ok",
     "timestamp": 1721823241251,
     "user": {
      "displayName": "Coral Engel",
      "userId": "12572229509792027901"
     },
     "user_tz": -180
    },
    "id": "P-lLs4_gzEZ2"
   },
   "outputs": [],
   "source": [
    "# Sample minimum required images\n",
    "train_person, val_person = sample_minimum_images(person_images, 500, 150)\n",
    "train_pet, val_pet = sample_minimum_images(pet_images, 500, 100)"
   ]
  },
  {
   "cell_type": "code",
   "execution_count": 32,
   "metadata": {
    "executionInfo": {
     "elapsed": 11,
     "status": "ok",
     "timestamp": 1721823241251,
     "user": {
      "displayName": "Coral Engel",
      "userId": "12572229509792027901"
     },
     "user_tz": -180
    },
    "id": "XRB3ISrCzFgR"
   },
   "outputs": [],
   "source": [
    "# Combine train and val datasets\n",
    "train_df = pd.concat([train_person, train_pet])\n",
    "val_df = pd.concat([val_person, val_pet])"
   ]
  },
  {
   "cell_type": "code",
   "execution_count": 33,
   "metadata": {
    "colab": {
     "base_uri": "https://localhost:8080/",
     "height": 507
    },
    "executionInfo": {
     "elapsed": 11,
     "status": "ok",
     "timestamp": 1721823241251,
     "user": {
      "displayName": "Coral Engel",
      "userId": "12572229509792027901"
     },
     "user_tz": -180
    },
    "id": "Jp0elu3ozGkm",
    "outputId": "d343b9bc-e676-409f-8ab8-de3cb08fe417"
   },
   "outputs": [
    {
     "data": {
      "image/png": "[encoded data removed]",
      "text/plain": [
       "<Figure size 600x500 with 1 Axes>"
      ]
     },
     "metadata": {},
     "output_type": "display_data"
    }
   ],
   "source": [
    "# Visualization\n",
    "\n",
    "train_person_count = len(train_person)\n",
    "val_person_count = len(val_person)\n",
    "train_pet_count = len(train_pet)\n",
    "val_pet_count = len(val_pet)\n",
    "\n",
    "categories = ['Person', 'Pet']\n",
    "train_counts = [train_person_count, train_pet_count]\n",
    "val_counts = [val_person_count, val_pet_count]\n",
    "\n",
    "fig, ax = plt.subplots(figsize=(6, 5))\n",
    "bars_train = ax.bar(categories, train_counts, color=custom_palette[0], label='Train')\n",
    "bars_val = ax.bar(categories, val_counts, bottom=train_counts, color=custom_palette[1], label='Validation')\n",
    "\n",
    "for i, bar in enumerate(bars_train):\n",
    "    yval = bar.get_height()\n",
    "    ax.text(bar.get_x() + bar.get_width() / 2, yval / 2, int(yval), ha='center', va='bottom', color='white')\n",
    "\n",
    "for i, bar in enumerate(bars_val):\n",
    "    yval = bar.get_height() + bars_train[i].get_height()\n",
    "    ax.text(bar.get_x() + bar.get_width() / 2, yval - bar.get_height() / 2, int(bar.get_height()), ha='center', va='bottom', color='white')\n",
    "\n",
    "ax.set_xlabel('Category')\n",
    "ax.set_ylabel('Count')\n",
    "ax.set_title('Train and Validation Image Per Class: Person and Pet')\n",
    "ax.legend()\n",
    "\n",
    "plt.tight_layout()\n",
    "plt.show()"
   ]
  },
  {
   "cell_type": "markdown",
   "metadata": {
    "id": "uFRdqLXQzIvk"
   },
   "source": [
    "### Fill the Train and Validation directories"
   ]
  },
  {
   "cell_type": "code",
   "execution_count": 34,
   "metadata": {
    "executionInfo": {
     "elapsed": 10,
     "status": "ok",
     "timestamp": 1721823241251,
     "user": {
      "displayName": "Coral Engel",
      "userId": "12572229509792027901"
     },
     "user_tz": -180
    },
    "id": "YrqIy5euzJ2I"
   },
   "outputs": [],
   "source": [
    "# Function to copy files to train and val directories\n",
    "def copy_files_to_directories(filenames, labels, coordinates, image_dest, label_dest):\n",
    "    for i, filename in enumerate(filenames):\n",
    "        file_path = os.path.join(IMAGES_PATH, filename)\n",
    "        label = labels[i]\n",
    "        coord = coordinates[i]\n",
    "\n",
    "        if label == 'person':\n",
    "            class_id = 0\n",
    "        elif label == 'pet':\n",
    "            class_id = 1\n",
    "        else:\n",
    "            class_id = -1\n",
    "\n",
    "        label_file_path = os.path.join(label_dest, filename.replace('.jpg', '.txt'))\n",
    "        with open(label_file_path, 'w') as f:\n",
    "            if coord:\n",
    "                x_min, y_min, x_max, y_max = coord\n",
    "                f.write(f'{class_id} {x_min} {y_min} {x_max} {y_max}')\n",
    "            else:\n",
    "                f.write(f'{class_id} 0.5 0.5 0.5 1 1')  # Dummy label in YOLO format\n",
    "\n",
    "        dest_file_path = os.path.join(image_dest, filename)\n",
    "        if os.path.abspath(file_path) != os.path.abspath(dest_file_path):\n",
    "            image = Image.open(file_path)\n",
    "            image.save(dest_file_path)"
   ]
  },
  {
   "cell_type": "code",
   "execution_count": 35,
   "metadata": {
    "executionInfo": {
     "elapsed": 10,
     "status": "ok",
     "timestamp": 1721823241251,
     "user": {
      "displayName": "Coral Engel",
      "userId": "12572229509792027901"
     },
     "user_tz": -180
    },
    "id": "eWqTKGcda1TJ"
   },
   "outputs": [],
   "source": [
    "# Function to count the number of files in a directory\n",
    "def count_files_in_directory(directory):\n",
    "    return len([name for name in os.listdir(directory) if os.path.isfile(os.path.join(directory, name))])"
   ]
  },
  {
   "cell_type": "code",
   "execution_count": 36,
   "metadata": {
    "executionInfo": {
     "elapsed": 11,
     "status": "ok",
     "timestamp": 1721823241252,
     "user": {
      "displayName": "Coral Engel",
      "userId": "12572229509792027901"
     },
     "user_tz": -180
    },
    "id": "mSK8zq1ba7B6"
   },
   "outputs": [],
   "source": [
    "# Function to ensure all files are copied\n",
    "def ensure_all_files_copied(filenames, image_dest, label_dest):\n",
    "    expected_file_count = len(filenames)\n",
    "    while True:\n",
    "        image_file_count = count_files_in_directory(image_dest)\n",
    "        label_file_count = count_files_in_directory(label_dest)\n",
    "        if image_file_count == expected_file_count and label_file_count == expected_file_count:\n",
    "            break\n",
    "        time.sleep(1)  # Wait for 1 second before checking again\n",
    "    print(\"All files copied successfully.\")"
   ]
  },
  {
   "cell_type": "code",
   "execution_count": 37,
   "metadata": {
    "colab": {
     "base_uri": "https://localhost:8080/"
    },
    "executionInfo": {
     "elapsed": 25797,
     "status": "ok",
     "timestamp": 1721823267038,
     "user": {
      "displayName": "Coral Engel",
      "userId": "12572229509792027901"
     },
     "user_tz": -180
    },
    "id": "SiN5l6iWzK9C",
    "outputId": "5cf23ebf-82da-443e-ce37-2d319d3d159f"
   },
   "outputs": [
    {
     "name": "stdout",
     "output_type": "stream",
     "text": [
      "All files copied successfully.\n"
     ]
    }
   ],
   "source": [
    "# Copy train files\n",
    "train_images = train_df['image'].tolist()\n",
    "train_labels = train_df['label'].tolist()\n",
    "train_coordinates = train_df['coordinates'].tolist()\n",
    "copy_files_to_directories(train_images, train_labels, train_coordinates, TRAIN_IMAGES_PATH, TRAIN_LABELS_PATH)\n",
    "ensure_all_files_copied(train_images, TRAIN_IMAGES_PATH, TRAIN_LABELS_PATH)"
   ]
  },
  {
   "cell_type": "code",
   "execution_count": 38,
   "metadata": {
    "colab": {
     "base_uri": "https://localhost:8080/"
    },
    "executionInfo": {
     "elapsed": 4968,
     "status": "ok",
     "timestamp": 1721823272003,
     "user": {
      "displayName": "Coral Engel",
      "userId": "12572229509792027901"
     },
     "user_tz": -180
    },
    "id": "BWwfJaHrzL-h",
    "outputId": "b53ce94e-d92a-4a8c-f87d-f2f11b3344f1"
   },
   "outputs": [
    {
     "name": "stdout",
     "output_type": "stream",
     "text": [
      "All files copied successfully.\n"
     ]
    }
   ],
   "source": [
    "# Copy val files\n",
    "val_images = val_df['image'].tolist()\n",
    "val_labels = val_df['label'].tolist()\n",
    "val_coordinates = val_df['coordinates'].tolist()\n",
    "copy_files_to_directories(val_images, val_labels, val_coordinates, VAL_IMAGES_PATH, VAL_LABELS_PATH)\n",
    "ensure_all_files_copied(val_images, VAL_IMAGES_PATH, VAL_LABELS_PATH)"
   ]
  },
  {
   "cell_type": "markdown",
   "metadata": {
    "id": "QP_VVB6m0ZRx"
   },
   "source": [
    "# Sammury of the Train Set creation part\n",
    "\n",
    "Our final goal in this project was to create an **efficient object detection model** tailored for images featuring either people or pets (a union of dogs and cats).\n",
    "In this part, we utilized Microsoft's Florence-2-large model to label our dataset and generate bounding box coordinates. The dataset was then cleaned by **removing small objects** smaller than 32 pixels, as the YOLO model we intended to train cannot effectively learn from such small objects. After ensuring data consistency and normalizing the bounding box coordinates, the dataset was split into training and validation sets, ensuring a minimum of 500 training images and 100 validation images per class.\n",
    "\n",
    "### **Steps along the way**\n",
    "\n",
    "**1 - Images**\n",
    "* Took about 1800 images from the 'Flicker image dataset' in Kaggle.\n",
    "\n",
    "**2 - Labeling Images with Florence-2-Large Model**\n",
    "* Used the Florence-2-Large model by Microsoft to generate labels for images.\n",
    "\n",
    "**3 - Building the Dataset**\n",
    "* Deleting Small Objects: Removed objects too small to be significant for training.\n",
    "* Choosing Labels: Selected one of two labels 'Person' or 'Pet' for training purposes, prioritizing 'pet' over 'person' in images containing both.\n",
    "\n",
    "**4 - Cleaning the Data**\n",
    "* Ensured data consistency and correctness.\n",
    "* Normalized bounding box coordinates since the YOLO model requires normelized bbox values.\n",
    "\n",
    "**5 - Data Segmentation**\n",
    "* Divided data into training and validation sets with minimum 500 train images and 100 validation images per class.\n",
    "* Organized images and labels into appropriate directories to match the requirments of the YOLO model: dataset/images/train, dataset/images/val, dataset/labels/train, dataset/labels/val.\n",
    "\n",
    "### **Conclusions**\n",
    "The creation of the training dataset involved careful preprocessing to ensure **high-quality data for model training**. Labeling accuracy, data cleaning, and proper segmentation were crucial in building a **reliable dataset**, setting a solid foundation for subsequent training and evaluation of the model."
   ]
  },
  {
   "cell_type": "markdown",
   "metadata": {
    "id": "KSMx5PIx6P94"
   },
   "source": [
    "### References:\n",
    "* Florence - https://blog.roboflow.com/florence-2/\n",
    "* Flickr Image dataset - https://www.kaggle.com/datasets/hsankesara/flickr-image-dataset"
   ]
  },
  {
   "cell_type": "code",
   "execution_count": 38,
   "metadata": {
    "executionInfo": {
     "elapsed": 13,
     "status": "ok",
     "timestamp": 1721823272003,
     "user": {
      "displayName": "Coral Engel",
      "userId": "12572229509792027901"
     },
     "user_tz": -180
    },
    "id": "NDgemWFK0lZK"
   },
   "outputs": [],
   "source": []
  }
 ],
 "metadata": {
  "accelerator": "GPU",
  "colab": {
   "authorship_tag": "ABX9TyMnF7iWW5nHq1rk9m4MRrvS",
   "gpuType": "T4",
   "machine_shape": "hm",
   "provenance": []
  },
  "kernelspec": {
   "display_name": "Python 3 (ipykernel)",
   "language": "python",
   "name": "python3"
  },
  "language_info": {
   "codemirror_mode": {
    "name": "ipython",
    "version": 3
   },
   "file_extension": ".py",
   "mimetype": "text/x-python",
   "name": "python",
   "nbconvert_exporter": "python",
   "pygments_lexer": "ipython3",
   "version": "3.12.3"
  },
  "widgets": {
   "application/vnd.jupyter.widget-state+json": {
    "04f6e100b3e94218a2f02881a7a7642e": {
     "model_module": "@jupyter-widgets/controls",
     "model_module_version": "1.5.0",
     "model_name": "FloatProgressModel",
     "state": {
      "_dom_classes": [],
      "_model_module": "@jupyter-widgets/controls",
      "_model_module_version": "1.5.0",
      "_model_name": "FloatProgressModel",
      "_view_count": null,
      "_view_module": "@jupyter-widgets/controls",
      "_view_module_version": "1.5.0",
      "_view_name": "ProgressView",
      "bar_style": "success",
      "description": "",
      "description_tooltip": null,
      "layout": "IPY_MODEL_bb6a3fba54834ce8b1a1fc52374336c0",
      "max": 1355863,
      "min": 0,
      "orientation": "horizontal",
      "style": "IPY_MODEL_8242d77b2288459d957c840711ecf0e6",
      "value": 1355863
     }
    },
    "05df8257932f41e78307ef5775ae2acb": {
     "model_module": "@jupyter-widgets/controls",
     "model_module_version": "1.5.0",
     "model_name": "HTMLModel",
     "state": {
      "_dom_classes": [],
      "_model_module": "@jupyter-widgets/controls",
      "_model_module_version": "1.5.0",
      "_model_name": "HTMLModel",
      "_view_count": null,
      "_view_module": "@jupyter-widgets/controls",
      "_view_module_version": "1.5.0",
      "_view_name": "HTMLView",
      "description": "",
      "description_tooltip": null,
      "layout": "IPY_MODEL_99c64d036abd47d5ac7931f9ba2ffef5",
      "placeholder": "​",
      "style": "IPY_MODEL_df8d89ec656c4e7181c8f2587686093a",
      "value": "config.json: 100%"
     }
    },
    "067b65146a5f433d9cad0afc665a38ee": {
     "model_module": "@jupyter-widgets/controls",
     "model_module_version": "1.5.0",
     "model_name": "FloatProgressModel",
     "state": {
      "_dom_classes": [],
      "_model_module": "@jupyter-widgets/controls",
      "_model_module_version": "1.5.0",
      "_model_name": "FloatProgressModel",
      "_view_count": null,
      "_view_module": "@jupyter-widgets/controls",
      "_view_module_version": "1.5.0",
      "_view_name": "ProgressView",
      "bar_style": "success",
      "description": "",
      "description_tooltip": null,
      "layout": "IPY_MODEL_54b1271e8b854e8b86a57415fcf8d2d7",
      "max": 15125,
      "min": 0,
      "orientation": "horizontal",
      "style": "IPY_MODEL_db7d8bc45b4645a48b09782217c1884e",
      "value": 15125
     }
    },
    "09e2b93c5bd24c4a9b9b9948650c26b9": {
     "model_module": "@jupyter-widgets/controls",
     "model_module_version": "1.5.0",
     "model_name": "ProgressStyleModel",
     "state": {
      "_model_module": "@jupyter-widgets/controls",
      "_model_module_version": "1.5.0",
      "_model_name": "ProgressStyleModel",
      "_view_count": null,
      "_view_module": "@jupyter-widgets/base",
      "_view_module_version": "1.2.0",
      "_view_name": "StyleView",
      "bar_color": null,
      "description_width": ""
     }
    },
    "09f574d5c1dc4f5eab1bc7eb6c673cc4": {
     "model_module": "@jupyter-widgets/controls",
     "model_module_version": "1.5.0",
     "model_name": "DescriptionStyleModel",
     "state": {
      "_model_module": "@jupyter-widgets/controls",
      "_model_module_version": "1.5.0",
      "_model_name": "DescriptionStyleModel",
      "_view_count": null,
      "_view_module": "@jupyter-widgets/base",
      "_view_module_version": "1.2.0",
      "_view_name": "StyleView",
      "description_width": ""
     }
    },
    "0ca948481a324852b9002e11a2f54a38": {
     "model_module": "@jupyter-widgets/base",
     "model_module_version": "1.2.0",
     "model_name": "LayoutModel",
     "state": {
      "_model_module": "@jupyter-widgets/base",
      "_model_module_version": "1.2.0",
      "_model_name": "LayoutModel",
      "_view_count": null,
      "_view_module": "@jupyter-widgets/base",
      "_view_module_version": "1.2.0",
      "_view_name": "LayoutView",
      "align_content": null,
      "align_items": null,
      "align_self": null,
      "border": null,
      "bottom": null,
      "display": null,
      "flex": null,
      "flex_flow": null,
      "grid_area": null,
      "grid_auto_columns": null,
      "grid_auto_flow": null,
      "grid_auto_rows": null,
      "grid_column": null,
      "grid_gap": null,
      "grid_row": null,
      "grid_template_areas": null,
      "grid_template_columns": null,
      "grid_template_rows": null,
      "height": null,
      "justify_content": null,
      "justify_items": null,
      "left": null,
      "margin": null,
      "max_height": null,
      "max_width": null,
      "min_height": null,
      "min_width": null,
      "object_fit": null,
      "object_position": null,
      "order": null,
      "overflow": null,
      "overflow_x": null,
      "overflow_y": null,
      "padding": null,
      "right": null,
      "top": null,
      "visibility": null,
      "width": null
     }
    },
    "0f3d56cf8d0943ef903db9ca22ea0b97": {
     "model_module": "@jupyter-widgets/base",
     "model_module_version": "1.2.0",
     "model_name": "LayoutModel",
     "state": {
      "_model_module": "@jupyter-widgets/base",
      "_model_module_version": "1.2.0",
      "_model_name": "LayoutModel",
      "_view_count": null,
      "_view_module": "@jupyter-widgets/base",
      "_view_module_version": "1.2.0",
      "_view_name": "LayoutView",
      "align_content": null,
      "align_items": null,
      "align_self": null,
      "border": null,
      "bottom": null,
      "display": null,
      "flex": null,
      "flex_flow": null,
      "grid_area": null,
      "grid_auto_columns": null,
      "grid_auto_flow": null,
      "grid_auto_rows": null,
      "grid_column": null,
      "grid_gap": null,
      "grid_row": null,
      "grid_template_areas": null,
      "grid_template_columns": null,
      "grid_template_rows": null,
      "height": null,
      "justify_content": null,
      "justify_items": null,
      "left": null,
      "margin": null,
      "max_height": null,
      "max_width": null,
      "min_height": null,
      "min_width": null,
      "object_fit": null,
      "object_position": null,
      "order": null,
      "overflow": null,
      "overflow_x": null,
      "overflow_y": null,
      "padding": null,
      "right": null,
      "top": null,
      "visibility": null,
      "width": null
     }
    },
    "1253cf48e3f24aa5867c377670cac8ef": {
     "model_module": "@jupyter-widgets/controls",
     "model_module_version": "1.5.0",
     "model_name": "DescriptionStyleModel",
     "state": {
      "_model_module": "@jupyter-widgets/controls",
      "_model_module_version": "1.5.0",
      "_model_name": "DescriptionStyleModel",
      "_view_count": null,
      "_view_module": "@jupyter-widgets/base",
      "_view_module_version": "1.2.0",
      "_view_name": "StyleView",
      "description_width": ""
     }
    },
    "140c9b229f1d41439336839a678e0060": {
     "model_module": "@jupyter-widgets/controls",
     "model_module_version": "1.5.0",
     "model_name": "DescriptionStyleModel",
     "state": {
      "_model_module": "@jupyter-widgets/controls",
      "_model_module_version": "1.5.0",
      "_model_name": "DescriptionStyleModel",
      "_view_count": null,
      "_view_module": "@jupyter-widgets/base",
      "_view_module_version": "1.2.0",
      "_view_name": "StyleView",
      "description_width": ""
     }
    },
    "150d5a5ffdd3454cae8bf31be595d4a9": {
     "model_module": "@jupyter-widgets/base",
     "model_module_version": "1.2.0",
     "model_name": "LayoutModel",
     "state": {
      "_model_module": "@jupyter-widgets/base",
      "_model_module_version": "1.2.0",
      "_model_name": "LayoutModel",
      "_view_count": null,
      "_view_module": "@jupyter-widgets/base",
      "_view_module_version": "1.2.0",
      "_view_name": "LayoutView",
      "align_content": null,
      "align_items": null,
      "align_self": null,
      "border": null,
      "bottom": null,
      "display": null,
      "flex": null,
      "flex_flow": null,
      "grid_area": null,
      "grid_auto_columns": null,
      "grid_auto_flow": null,
      "grid_auto_rows": null,
      "grid_column": null,
      "grid_gap": null,
      "grid_row": null,
      "grid_template_areas": null,
      "grid_template_columns": null,
      "grid_template_rows": null,
      "height": null,
      "justify_content": null,
      "justify_items": null,
      "left": null,
      "margin": null,
      "max_height": null,
      "max_width": null,
      "min_height": null,
      "min_width": null,
      "object_fit": null,
      "object_position": null,
      "order": null,
      "overflow": null,
      "overflow_x": null,
      "overflow_y": null,
      "padding": null,
      "right": null,
      "top": null,
      "visibility": null,
      "width": null
     }
    },
    "17ede645e0ba4fb493c893564a4c6ca0": {
     "model_module": "@jupyter-widgets/controls",
     "model_module_version": "1.5.0",
     "model_name": "ProgressStyleModel",
     "state": {
      "_model_module": "@jupyter-widgets/controls",
      "_model_module_version": "1.5.0",
      "_model_name": "ProgressStyleModel",
      "_view_count": null,
      "_view_module": "@jupyter-widgets/base",
      "_view_module_version": "1.2.0",
      "_view_name": "StyleView",
      "bar_color": null,
      "description_width": ""
     }
    },
    "19534abdf862419b844c7b9b00862bba": {
     "model_module": "@jupyter-widgets/base",
     "model_module_version": "1.2.0",
     "model_name": "LayoutModel",
     "state": {
      "_model_module": "@jupyter-widgets/base",
      "_model_module_version": "1.2.0",
      "_model_name": "LayoutModel",
      "_view_count": null,
      "_view_module": "@jupyter-widgets/base",
      "_view_module_version": "1.2.0",
      "_view_name": "LayoutView",
      "align_content": null,
      "align_items": null,
      "align_self": null,
      "border": null,
      "bottom": null,
      "display": null,
      "flex": null,
      "flex_flow": null,
      "grid_area": null,
      "grid_auto_columns": null,
      "grid_auto_flow": null,
      "grid_auto_rows": null,
      "grid_column": null,
      "grid_gap": null,
      "grid_row": null,
      "grid_template_areas": null,
      "grid_template_columns": null,
      "grid_template_rows": null,
      "height": null,
      "justify_content": null,
      "justify_items": null,
      "left": null,
      "margin": null,
      "max_height": null,
      "max_width": null,
      "min_height": null,
      "min_width": null,
      "object_fit": null,
      "object_position": null,
      "order": null,
      "overflow": null,
      "overflow_x": null,
      "overflow_y": null,
      "padding": null,
      "right": null,
      "top": null,
      "visibility": null,
      "width": null
     }
    },
    "1ae17691fd0748c0a5261c4a7f37ba79": {
     "model_module": "@jupyter-widgets/base",
     "model_module_version": "1.2.0",
     "model_name": "LayoutModel",
     "state": {
      "_model_module": "@jupyter-widgets/base",
      "_model_module_version": "1.2.0",
      "_model_name": "LayoutModel",
      "_view_count": null,
      "_view_module": "@jupyter-widgets/base",
      "_view_module_version": "1.2.0",
      "_view_name": "LayoutView",
      "align_content": null,
      "align_items": null,
      "align_self": null,
      "border": null,
      "bottom": null,
      "display": null,
      "flex": null,
      "flex_flow": null,
      "grid_area": null,
      "grid_auto_columns": null,
      "grid_auto_flow": null,
      "grid_auto_rows": null,
      "grid_column": null,
      "grid_gap": null,
      "grid_row": null,
      "grid_template_areas": null,
      "grid_template_columns": null,
      "grid_template_rows": null,
      "height": null,
      "justify_content": null,
      "justify_items": null,
      "left": null,
      "margin": null,
      "max_height": null,
      "max_width": null,
      "min_height": null,
      "min_width": null,
      "object_fit": null,
      "object_position": null,
      "order": null,
      "overflow": null,
      "overflow_x": null,
      "overflow_y": null,
      "padding": null,
      "right": null,
      "top": null,
      "visibility": null,
      "width": null
     }
    },
    "213669c7a71545e1b2fe854b3014704e": {
     "model_module": "@jupyter-widgets/controls",
     "model_module_version": "1.5.0",
     "model_name": "HBoxModel",
     "state": {
      "_dom_classes": [],
      "_model_module": "@jupyter-widgets/controls",
      "_model_module_version": "1.5.0",
      "_model_name": "HBoxModel",
      "_view_count": null,
      "_view_module": "@jupyter-widgets/controls",
      "_view_module_version": "1.5.0",
      "_view_name": "HBoxView",
      "box_style": "",
      "children": [
       "IPY_MODEL_f6e760cf0aa342b48763d4636331f942",
       "IPY_MODEL_e19dcab404dc4319ba8e261160cee2b9",
       "IPY_MODEL_c354c75221aa48f5ab7008143f46d7a5"
      ],
      "layout": "IPY_MODEL_e515dcb84207479c8203eaf2ca1658b4"
     }
    },
    "219bdd402a6a4342969dcfc2f1a7936a": {
     "model_module": "@jupyter-widgets/controls",
     "model_module_version": "1.5.0",
     "model_name": "DescriptionStyleModel",
     "state": {
      "_model_module": "@jupyter-widgets/controls",
      "_model_module_version": "1.5.0",
      "_model_name": "DescriptionStyleModel",
      "_view_count": null,
      "_view_module": "@jupyter-widgets/base",
      "_view_module_version": "1.2.0",
      "_view_name": "StyleView",
      "description_width": ""
     }
    },
    "220e93bd09064212b476f9f1cb5f24cf": {
     "model_module": "@jupyter-widgets/controls",
     "model_module_version": "1.5.0",
     "model_name": "DescriptionStyleModel",
     "state": {
      "_model_module": "@jupyter-widgets/controls",
      "_model_module_version": "1.5.0",
      "_model_name": "DescriptionStyleModel",
      "_view_count": null,
      "_view_module": "@jupyter-widgets/base",
      "_view_module_version": "1.2.0",
      "_view_name": "StyleView",
      "description_width": ""
     }
    },
    "2317994833774b3abc1027fb00388847": {
     "model_module": "@jupyter-widgets/controls",
     "model_module_version": "1.5.0",
     "model_name": "DescriptionStyleModel",
     "state": {
      "_model_module": "@jupyter-widgets/controls",
      "_model_module_version": "1.5.0",
      "_model_name": "DescriptionStyleModel",
      "_view_count": null,
      "_view_module": "@jupyter-widgets/base",
      "_view_module_version": "1.2.0",
      "_view_name": "StyleView",
      "description_width": ""
     }
    },
    "2737e7e3409649fcad6b678fa0ae1877": {
     "model_module": "@jupyter-widgets/base",
     "model_module_version": "1.2.0",
     "model_name": "LayoutModel",
     "state": {
      "_model_module": "@jupyter-widgets/base",
      "_model_module_version": "1.2.0",
      "_model_name": "LayoutModel",
      "_view_count": null,
      "_view_module": "@jupyter-widgets/base",
      "_view_module_version": "1.2.0",
      "_view_name": "LayoutView",
      "align_content": null,
      "align_items": null,
      "align_self": null,
      "border": null,
      "bottom": null,
      "display": null,
      "flex": null,
      "flex_flow": null,
      "grid_area": null,
      "grid_auto_columns": null,
      "grid_auto_flow": null,
      "grid_auto_rows": null,
      "grid_column": null,
      "grid_gap": null,
      "grid_row": null,
      "grid_template_areas": null,
      "grid_template_columns": null,
      "grid_template_rows": null,
      "height": null,
      "justify_content": null,
      "justify_items": null,
      "left": null,
      "margin": null,
      "max_height": null,
      "max_width": null,
      "min_height": null,
      "min_width": null,
      "object_fit": null,
      "object_position": null,
      "order": null,
      "overflow": null,
      "overflow_x": null,
      "overflow_y": null,
      "padding": null,
      "right": null,
      "top": null,
      "visibility": null,
      "width": null
     }
    },
    "27dd8161c40e42e0a9df91ba2cc9b766": {
     "model_module": "@jupyter-widgets/controls",
     "model_module_version": "1.5.0",
     "model_name": "ProgressStyleModel",
     "state": {
      "_model_module": "@jupyter-widgets/controls",
      "_model_module_version": "1.5.0",
      "_model_name": "ProgressStyleModel",
      "_view_count": null,
      "_view_module": "@jupyter-widgets/base",
      "_view_module_version": "1.2.0",
      "_view_name": "StyleView",
      "bar_color": null,
      "description_width": ""
     }
    },
    "28583354385a492692756d41c77c7dfe": {
     "model_module": "@jupyter-widgets/base",
     "model_module_version": "1.2.0",
     "model_name": "LayoutModel",
     "state": {
      "_model_module": "@jupyter-widgets/base",
      "_model_module_version": "1.2.0",
      "_model_name": "LayoutModel",
      "_view_count": null,
      "_view_module": "@jupyter-widgets/base",
      "_view_module_version": "1.2.0",
      "_view_name": "LayoutView",
      "align_content": null,
      "align_items": null,
      "align_self": null,
      "border": null,
      "bottom": null,
      "display": null,
      "flex": null,
      "flex_flow": null,
      "grid_area": null,
      "grid_auto_columns": null,
      "grid_auto_flow": null,
      "grid_auto_rows": null,
      "grid_column": null,
      "grid_gap": null,
      "grid_row": null,
      "grid_template_areas": null,
      "grid_template_columns": null,
      "grid_template_rows": null,
      "height": null,
      "justify_content": null,
      "justify_items": null,
      "left": null,
      "margin": null,
      "max_height": null,
      "max_width": null,
      "min_height": null,
      "min_width": null,
      "object_fit": null,
      "object_position": null,
      "order": null,
      "overflow": null,
      "overflow_x": null,
      "overflow_y": null,
      "padding": null,
      "right": null,
      "top": null,
      "visibility": null,
      "width": null
     }
    },
    "28a3409043f24a2ea026935173a8f2bf": {
     "model_module": "@jupyter-widgets/controls",
     "model_module_version": "1.5.0",
     "model_name": "HTMLModel",
     "state": {
      "_dom_classes": [],
      "_model_module": "@jupyter-widgets/controls",
      "_model_module_version": "1.5.0",
      "_model_name": "HTMLModel",
      "_view_count": null,
      "_view_module": "@jupyter-widgets/controls",
      "_view_module_version": "1.5.0",
      "_view_name": "HTMLView",
      "description": "",
      "description_tooltip": null,
      "layout": "IPY_MODEL_b97e988fba6c4bd5926b7d051b6e5cc0",
      "placeholder": "​",
      "style": "IPY_MODEL_219bdd402a6a4342969dcfc2f1a7936a",
      "value": "configuration_florence2.py: 100%"
     }
    },
    "29ca3250e80e421aa64c6ca6fbe1dd56": {
     "model_module": "@jupyter-widgets/controls",
     "model_module_version": "1.5.0",
     "model_name": "ProgressStyleModel",
     "state": {
      "_model_module": "@jupyter-widgets/controls",
      "_model_module_version": "1.5.0",
      "_model_name": "ProgressStyleModel",
      "_view_count": null,
      "_view_module": "@jupyter-widgets/base",
      "_view_module_version": "1.2.0",
      "_view_name": "StyleView",
      "bar_color": null,
      "description_width": ""
     }
    },
    "2a903be01e5b4067a3ed85d993698fa8": {
     "model_module": "@jupyter-widgets/base",
     "model_module_version": "1.2.0",
     "model_name": "LayoutModel",
     "state": {
      "_model_module": "@jupyter-widgets/base",
      "_model_module_version": "1.2.0",
      "_model_name": "LayoutModel",
      "_view_count": null,
      "_view_module": "@jupyter-widgets/base",
      "_view_module_version": "1.2.0",
      "_view_name": "LayoutView",
      "align_content": null,
      "align_items": null,
      "align_self": null,
      "border": null,
      "bottom": null,
      "display": null,
      "flex": null,
      "flex_flow": null,
      "grid_area": null,
      "grid_auto_columns": null,
      "grid_auto_flow": null,
      "grid_auto_rows": null,
      "grid_column": null,
      "grid_gap": null,
      "grid_row": null,
      "grid_template_areas": null,
      "grid_template_columns": null,
      "grid_template_rows": null,
      "height": null,
      "justify_content": null,
      "justify_items": null,
      "left": null,
      "margin": null,
      "max_height": null,
      "max_width": null,
      "min_height": null,
      "min_width": null,
      "object_fit": null,
      "object_position": null,
      "order": null,
      "overflow": null,
      "overflow_x": null,
      "overflow_y": null,
      "padding": null,
      "right": null,
      "top": null,
      "visibility": null,
      "width": null
     }
    },
    "2acdc78afd33476880ebc95a3d515d8b": {
     "model_module": "@jupyter-widgets/controls",
     "model_module_version": "1.5.0",
     "model_name": "DescriptionStyleModel",
     "state": {
      "_model_module": "@jupyter-widgets/controls",
      "_model_module_version": "1.5.0",
      "_model_name": "DescriptionStyleModel",
      "_view_count": null,
      "_view_module": "@jupyter-widgets/base",
      "_view_module_version": "1.2.0",
      "_view_name": "StyleView",
      "description_width": ""
     }
    },
    "2ea43f15c78449be93e76a486f605205": {
     "model_module": "@jupyter-widgets/controls",
     "model_module_version": "1.5.0",
     "model_name": "DescriptionStyleModel",
     "state": {
      "_model_module": "@jupyter-widgets/controls",
      "_model_module_version": "1.5.0",
      "_model_name": "DescriptionStyleModel",
      "_view_count": null,
      "_view_module": "@jupyter-widgets/base",
      "_view_module_version": "1.2.0",
      "_view_name": "StyleView",
      "description_width": ""
     }
    },
    "2edee6eaa4c24bb8afdb4b91d7ca99a4": {
     "model_module": "@jupyter-widgets/controls",
     "model_module_version": "1.5.0",
     "model_name": "FloatProgressModel",
     "state": {
      "_dom_classes": [],
      "_model_module": "@jupyter-widgets/controls",
      "_model_module_version": "1.5.0",
      "_model_name": "FloatProgressModel",
      "_view_count": null,
      "_view_module": "@jupyter-widgets/controls",
      "_view_module_version": "1.5.0",
      "_view_name": "ProgressView",
      "bar_style": "success",
      "description": "",
      "description_tooltip": null,
      "layout": "IPY_MODEL_6de36dfc27ad4df39199725eacca9396",
      "max": 1099884,
      "min": 0,
      "orientation": "horizontal",
      "style": "IPY_MODEL_29ca3250e80e421aa64c6ca6fbe1dd56",
      "value": 1099884
     }
    },
    "354d2668ee1f43ee99185798d2d3211b": {
     "model_module": "@jupyter-widgets/base",
     "model_module_version": "1.2.0",
     "model_name": "LayoutModel",
     "state": {
      "_model_module": "@jupyter-widgets/base",
      "_model_module_version": "1.2.0",
      "_model_name": "LayoutModel",
      "_view_count": null,
      "_view_module": "@jupyter-widgets/base",
      "_view_module_version": "1.2.0",
      "_view_name": "LayoutView",
      "align_content": null,
      "align_items": null,
      "align_self": null,
      "border": null,
      "bottom": null,
      "display": null,
      "flex": null,
      "flex_flow": null,
      "grid_area": null,
      "grid_auto_columns": null,
      "grid_auto_flow": null,
      "grid_auto_rows": null,
      "grid_column": null,
      "grid_gap": null,
      "grid_row": null,
      "grid_template_areas": null,
      "grid_template_columns": null,
      "grid_template_rows": null,
      "height": null,
      "justify_content": null,
      "justify_items": null,
      "left": null,
      "margin": null,
      "max_height": null,
      "max_width": null,
      "min_height": null,
      "min_width": null,
      "object_fit": null,
      "object_position": null,
      "order": null,
      "overflow": null,
      "overflow_x": null,
      "overflow_y": null,
      "padding": null,
      "right": null,
      "top": null,
      "visibility": null,
      "width": null
     }
    },
    "389ef3eee5944cc584b331ace7178bc8": {
     "model_module": "@jupyter-widgets/base",
     "model_module_version": "1.2.0",
     "model_name": "LayoutModel",
     "state": {
      "_model_module": "@jupyter-widgets/base",
      "_model_module_version": "1.2.0",
      "_model_name": "LayoutModel",
      "_view_count": null,
      "_view_module": "@jupyter-widgets/base",
      "_view_module_version": "1.2.0",
      "_view_name": "LayoutView",
      "align_content": null,
      "align_items": null,
      "align_self": null,
      "border": null,
      "bottom": null,
      "display": null,
      "flex": null,
      "flex_flow": null,
      "grid_area": null,
      "grid_auto_columns": null,
      "grid_auto_flow": null,
      "grid_auto_rows": null,
      "grid_column": null,
      "grid_gap": null,
      "grid_row": null,
      "grid_template_areas": null,
      "grid_template_columns": null,
      "grid_template_rows": null,
      "height": null,
      "justify_content": null,
      "justify_items": null,
      "left": null,
      "margin": null,
      "max_height": null,
      "max_width": null,
      "min_height": null,
      "min_width": null,
      "object_fit": null,
      "object_position": null,
      "order": null,
      "overflow": null,
      "overflow_x": null,
      "overflow_y": null,
      "padding": null,
      "right": null,
      "top": null,
      "visibility": null,
      "width": null
     }
    },
    "39f551bc153f4ec1a1de9252d447465d": {
     "model_module": "@jupyter-widgets/controls",
     "model_module_version": "1.5.0",
     "model_name": "HTMLModel",
     "state": {
      "_dom_classes": [],
      "_model_module": "@jupyter-widgets/controls",
      "_model_module_version": "1.5.0",
      "_model_name": "HTMLModel",
      "_view_count": null,
      "_view_module": "@jupyter-widgets/controls",
      "_view_module_version": "1.5.0",
      "_view_name": "HTMLView",
      "description": "",
      "description_tooltip": null,
      "layout": "IPY_MODEL_b7e1d5742f7944ee8ff0de393bafa502",
      "placeholder": "​",
      "style": "IPY_MODEL_09f574d5c1dc4f5eab1bc7eb6c673cc4",
      "value": "vocab.json: 100%"
     }
    },
    "3b4dbc47b39e4cd2aeda130eb6e8fab1": {
     "model_module": "@jupyter-widgets/base",
     "model_module_version": "1.2.0",
     "model_name": "LayoutModel",
     "state": {
      "_model_module": "@jupyter-widgets/base",
      "_model_module_version": "1.2.0",
      "_model_name": "LayoutModel",
      "_view_count": null,
      "_view_module": "@jupyter-widgets/base",
      "_view_module_version": "1.2.0",
      "_view_name": "LayoutView",
      "align_content": null,
      "align_items": null,
      "align_self": null,
      "border": null,
      "bottom": null,
      "display": null,
      "flex": null,
      "flex_flow": null,
      "grid_area": null,
      "grid_auto_columns": null,
      "grid_auto_flow": null,
      "grid_auto_rows": null,
      "grid_column": null,
      "grid_gap": null,
      "grid_row": null,
      "grid_template_areas": null,
      "grid_template_columns": null,
      "grid_template_rows": null,
      "height": null,
      "justify_content": null,
      "justify_items": null,
      "left": null,
      "margin": null,
      "max_height": null,
      "max_width": null,
      "min_height": null,
      "min_width": null,
      "object_fit": null,
      "object_position": null,
      "order": null,
      "overflow": null,
      "overflow_x": null,
      "overflow_y": null,
      "padding": null,
      "right": null,
      "top": null,
      "visibility": null,
      "width": null
     }
    },
    "3b6bb7931bd2403da88a500559780352": {
     "model_module": "@jupyter-widgets/base",
     "model_module_version": "1.2.0",
     "model_name": "LayoutModel",
     "state": {
      "_model_module": "@jupyter-widgets/base",
      "_model_module_version": "1.2.0",
      "_model_name": "LayoutModel",
      "_view_count": null,
      "_view_module": "@jupyter-widgets/base",
      "_view_module_version": "1.2.0",
      "_view_name": "LayoutView",
      "align_content": null,
      "align_items": null,
      "align_self": null,
      "border": null,
      "bottom": null,
      "display": null,
      "flex": null,
      "flex_flow": null,
      "grid_area": null,
      "grid_auto_columns": null,
      "grid_auto_flow": null,
      "grid_auto_rows": null,
      "grid_column": null,
      "grid_gap": null,
      "grid_row": null,
      "grid_template_areas": null,
      "grid_template_columns": null,
      "grid_template_rows": null,
      "height": null,
      "justify_content": null,
      "justify_items": null,
      "left": null,
      "margin": null,
      "max_height": null,
      "max_width": null,
      "min_height": null,
      "min_width": null,
      "object_fit": null,
      "object_position": null,
      "order": null,
      "overflow": null,
      "overflow_x": null,
      "overflow_y": null,
      "padding": null,
      "right": null,
      "top": null,
      "visibility": null,
      "width": null
     }
    },
    "3e7248cc0e1344bf8e618f89b8ae159f": {
     "model_module": "@jupyter-widgets/base",
     "model_module_version": "1.2.0",
     "model_name": "LayoutModel",
     "state": {
      "_model_module": "@jupyter-widgets/base",
      "_model_module_version": "1.2.0",
      "_model_name": "LayoutModel",
      "_view_count": null,
      "_view_module": "@jupyter-widgets/base",
      "_view_module_version": "1.2.0",
      "_view_name": "LayoutView",
      "align_content": null,
      "align_items": null,
      "align_self": null,
      "border": null,
      "bottom": null,
      "display": null,
      "flex": null,
      "flex_flow": null,
      "grid_area": null,
      "grid_auto_columns": null,
      "grid_auto_flow": null,
      "grid_auto_rows": null,
      "grid_column": null,
      "grid_gap": null,
      "grid_row": null,
      "grid_template_areas": null,
      "grid_template_columns": null,
      "grid_template_rows": null,
      "height": null,
      "justify_content": null,
      "justify_items": null,
      "left": null,
      "margin": null,
      "max_height": null,
      "max_width": null,
      "min_height": null,
      "min_width": null,
      "object_fit": null,
      "object_position": null,
      "order": null,
      "overflow": null,
      "overflow_x": null,
      "overflow_y": null,
      "padding": null,
      "right": null,
      "top": null,
      "visibility": null,
      "width": null
     }
    },
    "41398c1e861a405c9182b909a54c960d": {
     "model_module": "@jupyter-widgets/controls",
     "model_module_version": "1.5.0",
     "model_name": "DescriptionStyleModel",
     "state": {
      "_model_module": "@jupyter-widgets/controls",
      "_model_module_version": "1.5.0",
      "_model_name": "DescriptionStyleModel",
      "_view_count": null,
      "_view_module": "@jupyter-widgets/base",
      "_view_module_version": "1.2.0",
      "_view_name": "StyleView",
      "description_width": ""
     }
    },
    "439fc89c81e24c9ab09e5af79722cf32": {
     "model_module": "@jupyter-widgets/controls",
     "model_module_version": "1.5.0",
     "model_name": "HBoxModel",
     "state": {
      "_dom_classes": [],
      "_model_module": "@jupyter-widgets/controls",
      "_model_module_version": "1.5.0",
      "_model_name": "HBoxModel",
      "_view_count": null,
      "_view_module": "@jupyter-widgets/controls",
      "_view_module_version": "1.5.0",
      "_view_name": "HBoxView",
      "box_style": "",
      "children": [
       "IPY_MODEL_9036ffd4a4f14087933f1b4c1b5db0b0",
       "IPY_MODEL_fd44d7a30d614edfb90dfaa857153bf0",
       "IPY_MODEL_9940ee313f0546dd80558df1755c2ce7"
      ],
      "layout": "IPY_MODEL_3b6bb7931bd2403da88a500559780352"
     }
    },
    "4466b894c382470fb17fa8cb123079f9": {
     "model_module": "@jupyter-widgets/base",
     "model_module_version": "1.2.0",
     "model_name": "LayoutModel",
     "state": {
      "_model_module": "@jupyter-widgets/base",
      "_model_module_version": "1.2.0",
      "_model_name": "LayoutModel",
      "_view_count": null,
      "_view_module": "@jupyter-widgets/base",
      "_view_module_version": "1.2.0",
      "_view_name": "LayoutView",
      "align_content": null,
      "align_items": null,
      "align_self": null,
      "border": null,
      "bottom": null,
      "display": null,
      "flex": null,
      "flex_flow": null,
      "grid_area": null,
      "grid_auto_columns": null,
      "grid_auto_flow": null,
      "grid_auto_rows": null,
      "grid_column": null,
      "grid_gap": null,
      "grid_row": null,
      "grid_template_areas": null,
      "grid_template_columns": null,
      "grid_template_rows": null,
      "height": null,
      "justify_content": null,
      "justify_items": null,
      "left": null,
      "margin": null,
      "max_height": null,
      "max_width": null,
      "min_height": null,
      "min_width": null,
      "object_fit": null,
      "object_position": null,
      "order": null,
      "overflow": null,
      "overflow_x": null,
      "overflow_y": null,
      "padding": null,
      "right": null,
      "top": null,
      "visibility": null,
      "width": null
     }
    },
    "45fac75f21b84bdc9e754d4201509ec0": {
     "model_module": "@jupyter-widgets/controls",
     "model_module_version": "1.5.0",
     "model_name": "DescriptionStyleModel",
     "state": {
      "_model_module": "@jupyter-widgets/controls",
      "_model_module_version": "1.5.0",
      "_model_name": "DescriptionStyleModel",
      "_view_count": null,
      "_view_module": "@jupyter-widgets/base",
      "_view_module_version": "1.2.0",
      "_view_name": "StyleView",
      "description_width": ""
     }
    },
    "4ce89c8a433f498db66ab979d74b1a6d": {
     "model_module": "@jupyter-widgets/base",
     "model_module_version": "1.2.0",
     "model_name": "LayoutModel",
     "state": {
      "_model_module": "@jupyter-widgets/base",
      "_model_module_version": "1.2.0",
      "_model_name": "LayoutModel",
      "_view_count": null,
      "_view_module": "@jupyter-widgets/base",
      "_view_module_version": "1.2.0",
      "_view_name": "LayoutView",
      "align_content": null,
      "align_items": null,
      "align_self": null,
      "border": null,
      "bottom": null,
      "display": null,
      "flex": null,
      "flex_flow": null,
      "grid_area": null,
      "grid_auto_columns": null,
      "grid_auto_flow": null,
      "grid_auto_rows": null,
      "grid_column": null,
      "grid_gap": null,
      "grid_row": null,
      "grid_template_areas": null,
      "grid_template_columns": null,
      "grid_template_rows": null,
      "height": null,
      "justify_content": null,
      "justify_items": null,
      "left": null,
      "margin": null,
      "max_height": null,
      "max_width": null,
      "min_height": null,
      "min_width": null,
      "object_fit": null,
      "object_position": null,
      "order": null,
      "overflow": null,
      "overflow_x": null,
      "overflow_y": null,
      "padding": null,
      "right": null,
      "top": null,
      "visibility": null,
      "width": null
     }
    },
    "4db3d77a0b174d0cad57d73be57570c4": {
     "model_module": "@jupyter-widgets/controls",
     "model_module_version": "1.5.0",
     "model_name": "HTMLModel",
     "state": {
      "_dom_classes": [],
      "_model_module": "@jupyter-widgets/controls",
      "_model_module_version": "1.5.0",
      "_model_name": "HTMLModel",
      "_view_count": null,
      "_view_module": "@jupyter-widgets/controls",
      "_view_module_version": "1.5.0",
      "_view_name": "HTMLView",
      "description": "",
      "description_tooltip": null,
      "layout": "IPY_MODEL_0ca948481a324852b9002e11a2f54a38",
      "placeholder": "​",
      "style": "IPY_MODEL_7c7dda9d9808412fbff64a11b8a67d7d",
      "value": " 15.1k/15.1k [00:00&lt;00:00, 987kB/s]"
     }
    },
    "54b1271e8b854e8b86a57415fcf8d2d7": {
     "model_module": "@jupyter-widgets/base",
     "model_module_version": "1.2.0",
     "model_name": "LayoutModel",
     "state": {
      "_model_module": "@jupyter-widgets/base",
      "_model_module_version": "1.2.0",
      "_model_name": "LayoutModel",
      "_view_count": null,
      "_view_module": "@jupyter-widgets/base",
      "_view_module_version": "1.2.0",
      "_view_name": "LayoutView",
      "align_content": null,
      "align_items": null,
      "align_self": null,
      "border": null,
      "bottom": null,
      "display": null,
      "flex": null,
      "flex_flow": null,
      "grid_area": null,
      "grid_auto_columns": null,
      "grid_auto_flow": null,
      "grid_auto_rows": null,
      "grid_column": null,
      "grid_gap": null,
      "grid_row": null,
      "grid_template_areas": null,
      "grid_template_columns": null,
      "grid_template_rows": null,
      "height": null,
      "justify_content": null,
      "justify_items": null,
      "left": null,
      "margin": null,
      "max_height": null,
      "max_width": null,
      "min_height": null,
      "min_width": null,
      "object_fit": null,
      "object_position": null,
      "order": null,
      "overflow": null,
      "overflow_x": null,
      "overflow_y": null,
      "padding": null,
      "right": null,
      "top": null,
      "visibility": null,
      "width": null
     }
    },
    "577c671467864249ba99206de6c35acc": {
     "model_module": "@jupyter-widgets/base",
     "model_module_version": "1.2.0",
     "model_name": "LayoutModel",
     "state": {
      "_model_module": "@jupyter-widgets/base",
      "_model_module_version": "1.2.0",
      "_model_name": "LayoutModel",
      "_view_count": null,
      "_view_module": "@jupyter-widgets/base",
      "_view_module_version": "1.2.0",
      "_view_name": "LayoutView",
      "align_content": null,
      "align_items": null,
      "align_self": null,
      "border": null,
      "bottom": null,
      "display": null,
      "flex": null,
      "flex_flow": null,
      "grid_area": null,
      "grid_auto_columns": null,
      "grid_auto_flow": null,
      "grid_auto_rows": null,
      "grid_column": null,
      "grid_gap": null,
      "grid_row": null,
      "grid_template_areas": null,
      "grid_template_columns": null,
      "grid_template_rows": null,
      "height": null,
      "justify_content": null,
      "justify_items": null,
      "left": null,
      "margin": null,
      "max_height": null,
      "max_width": null,
      "min_height": null,
      "min_width": null,
      "object_fit": null,
      "object_position": null,
      "order": null,
      "overflow": null,
      "overflow_x": null,
      "overflow_y": null,
      "padding": null,
      "right": null,
      "top": null,
      "visibility": null,
      "width": null
     }
    },
    "5cf639dd0c1f4f7fa2a34c270dfb0f9b": {
     "model_module": "@jupyter-widgets/controls",
     "model_module_version": "1.5.0",
     "model_name": "HBoxModel",
     "state": {
      "_dom_classes": [],
      "_model_module": "@jupyter-widgets/controls",
      "_model_module_version": "1.5.0",
      "_model_name": "HBoxModel",
      "_view_count": null,
      "_view_module": "@jupyter-widgets/controls",
      "_view_module_version": "1.5.0",
      "_view_name": "HBoxView",
      "box_style": "",
      "children": [
       "IPY_MODEL_6d6ca3aadc49476c86915853447349de",
       "IPY_MODEL_745be42ba9c54fd5953111941db52595",
       "IPY_MODEL_f2b7a0da5a9946fb8fc13dd6c3cff01c"
      ],
      "layout": "IPY_MODEL_0f3d56cf8d0943ef903db9ca22ea0b97"
     }
    },
    "61edebd36ae74e049750bc38ff92030d": {
     "model_module": "@jupyter-widgets/controls",
     "model_module_version": "1.5.0",
     "model_name": "DescriptionStyleModel",
     "state": {
      "_model_module": "@jupyter-widgets/controls",
      "_model_module_version": "1.5.0",
      "_model_name": "DescriptionStyleModel",
      "_view_count": null,
      "_view_module": "@jupyter-widgets/base",
      "_view_module_version": "1.2.0",
      "_view_name": "StyleView",
      "description_width": ""
     }
    },
    "625a96b7096449abb66935133c7695c9": {
     "model_module": "@jupyter-widgets/controls",
     "model_module_version": "1.5.0",
     "model_name": "HTMLModel",
     "state": {
      "_dom_classes": [],
      "_model_module": "@jupyter-widgets/controls",
      "_model_module_version": "1.5.0",
      "_model_name": "HTMLModel",
      "_view_count": null,
      "_view_module": "@jupyter-widgets/controls",
      "_view_module_version": "1.5.0",
      "_view_name": "HTMLView",
      "description": "",
      "description_tooltip": null,
      "layout": "IPY_MODEL_f5db37a5655b4f5c84c807dfc284cada",
      "placeholder": "​",
      "style": "IPY_MODEL_220e93bd09064212b476f9f1cb5f24cf",
      "value": "generation_config.json: 100%"
     }
    },
    "6a3c08cbdf26479aad971bad49394336": {
     "model_module": "@jupyter-widgets/base",
     "model_module_version": "1.2.0",
     "model_name": "LayoutModel",
     "state": {
      "_model_module": "@jupyter-widgets/base",
      "_model_module_version": "1.2.0",
      "_model_name": "LayoutModel",
      "_view_count": null,
      "_view_module": "@jupyter-widgets/base",
      "_view_module_version": "1.2.0",
      "_view_name": "LayoutView",
      "align_content": null,
      "align_items": null,
      "align_self": null,
      "border": null,
      "bottom": null,
      "display": null,
      "flex": null,
      "flex_flow": null,
      "grid_area": null,
      "grid_auto_columns": null,
      "grid_auto_flow": null,
      "grid_auto_rows": null,
      "grid_column": null,
      "grid_gap": null,
      "grid_row": null,
      "grid_template_areas": null,
      "grid_template_columns": null,
      "grid_template_rows": null,
      "height": null,
      "justify_content": null,
      "justify_items": null,
      "left": null,
      "margin": null,
      "max_height": null,
      "max_width": null,
      "min_height": null,
      "min_width": null,
      "object_fit": null,
      "object_position": null,
      "order": null,
      "overflow": null,
      "overflow_x": null,
      "overflow_y": null,
      "padding": null,
      "right": null,
      "top": null,
      "visibility": null,
      "width": null
     }
    },
    "6c913f5f53274e43b19c0ec578476733": {
     "model_module": "@jupyter-widgets/controls",
     "model_module_version": "1.5.0",
     "model_name": "HTMLModel",
     "state": {
      "_dom_classes": [],
      "_model_module": "@jupyter-widgets/controls",
      "_model_module_version": "1.5.0",
      "_model_name": "HTMLModel",
      "_view_count": null,
      "_view_module": "@jupyter-widgets/controls",
      "_view_module_version": "1.5.0",
      "_view_name": "HTMLView",
      "description": "",
      "description_tooltip": null,
      "layout": "IPY_MODEL_b4271e5c41c5461f8d65ec236b58f1db",
      "placeholder": "​",
      "style": "IPY_MODEL_41398c1e861a405c9182b909a54c960d",
      "value": "tokenizer.json: 100%"
     }
    },
    "6d6ca3aadc49476c86915853447349de": {
     "model_module": "@jupyter-widgets/controls",
     "model_module_version": "1.5.0",
     "model_name": "HTMLModel",
     "state": {
      "_dom_classes": [],
      "_model_module": "@jupyter-widgets/controls",
      "_model_module_version": "1.5.0",
      "_model_name": "HTMLModel",
      "_view_count": null,
      "_view_module": "@jupyter-widgets/controls",
      "_view_module_version": "1.5.0",
      "_view_name": "HTMLView",
      "description": "",
      "description_tooltip": null,
      "layout": "IPY_MODEL_8e718f9b7afc429f9e2b1e58061345ea",
      "placeholder": "​",
      "style": "IPY_MODEL_1253cf48e3f24aa5867c377670cac8ef",
      "value": "preprocessor_config.json: 100%"
     }
    },
    "6dcc706e154e46e2b7b18dbad80447f6": {
     "model_module": "@jupyter-widgets/controls",
     "model_module_version": "1.5.0",
     "model_name": "HTMLModel",
     "state": {
      "_dom_classes": [],
      "_model_module": "@jupyter-widgets/controls",
      "_model_module_version": "1.5.0",
      "_model_name": "HTMLModel",
      "_view_count": null,
      "_view_module": "@jupyter-widgets/controls",
      "_view_module_version": "1.5.0",
      "_view_name": "HTMLView",
      "description": "",
      "description_tooltip": null,
      "layout": "IPY_MODEL_7e13418afcde49c5a89606779233c12a",
      "placeholder": "​",
      "style": "IPY_MODEL_2ea43f15c78449be93e76a486f605205",
      "value": " 34.0/34.0 [00:00&lt;00:00, 2.26kB/s]"
     }
    },
    "6de36dfc27ad4df39199725eacca9396": {
     "model_module": "@jupyter-widgets/base",
     "model_module_version": "1.2.0",
     "model_name": "LayoutModel",
     "state": {
      "_model_module": "@jupyter-widgets/base",
      "_model_module_version": "1.2.0",
      "_model_name": "LayoutModel",
      "_view_count": null,
      "_view_module": "@jupyter-widgets/base",
      "_view_module_version": "1.2.0",
      "_view_name": "LayoutView",
      "align_content": null,
      "align_items": null,
      "align_self": null,
      "border": null,
      "bottom": null,
      "display": null,
      "flex": null,
      "flex_flow": null,
      "grid_area": null,
      "grid_auto_columns": null,
      "grid_auto_flow": null,
      "grid_auto_rows": null,
      "grid_column": null,
      "grid_gap": null,
      "grid_row": null,
      "grid_template_areas": null,
      "grid_template_columns": null,
      "grid_template_rows": null,
      "height": null,
      "justify_content": null,
      "justify_items": null,
      "left": null,
      "margin": null,
      "max_height": null,
      "max_width": null,
      "min_height": null,
      "min_width": null,
      "object_fit": null,
      "object_position": null,
      "order": null,
      "overflow": null,
      "overflow_x": null,
      "overflow_y": null,
      "padding": null,
      "right": null,
      "top": null,
      "visibility": null,
      "width": null
     }
    },
    "745be42ba9c54fd5953111941db52595": {
     "model_module": "@jupyter-widgets/controls",
     "model_module_version": "1.5.0",
     "model_name": "FloatProgressModel",
     "state": {
      "_dom_classes": [],
      "_model_module": "@jupyter-widgets/controls",
      "_model_module_version": "1.5.0",
      "_model_name": "FloatProgressModel",
      "_view_count": null,
      "_view_module": "@jupyter-widgets/controls",
      "_view_module_version": "1.5.0",
      "_view_name": "ProgressView",
      "bar_style": "success",
      "description": "",
      "description_tooltip": null,
      "layout": "IPY_MODEL_9a3a288a1b9c419087575b44408c17e9",
      "max": 806,
      "min": 0,
      "orientation": "horizontal",
      "style": "IPY_MODEL_a50486d0815246bbb73bc7fbcbf71f4d",
      "value": 806
     }
    },
    "7510d30fe6e7492d922c64e794a196b2": {
     "model_module": "@jupyter-widgets/controls",
     "model_module_version": "1.5.0",
     "model_name": "ProgressStyleModel",
     "state": {
      "_model_module": "@jupyter-widgets/controls",
      "_model_module_version": "1.5.0",
      "_model_name": "ProgressStyleModel",
      "_view_count": null,
      "_view_module": "@jupyter-widgets/base",
      "_view_module_version": "1.2.0",
      "_view_name": "StyleView",
      "bar_color": null,
      "description_width": ""
     }
    },
    "77fdccfdd18c431a8009c7d0c2a83d01": {
     "model_module": "@jupyter-widgets/controls",
     "model_module_version": "1.5.0",
     "model_name": "HBoxModel",
     "state": {
      "_dom_classes": [],
      "_model_module": "@jupyter-widgets/controls",
      "_model_module_version": "1.5.0",
      "_model_name": "HBoxModel",
      "_view_count": null,
      "_view_module": "@jupyter-widgets/controls",
      "_view_module_version": "1.5.0",
      "_view_name": "HBoxView",
      "box_style": "",
      "children": [
       "IPY_MODEL_05df8257932f41e78307ef5775ae2acb",
       "IPY_MODEL_c57d53803808442bb09e4a63aa09502d",
       "IPY_MODEL_eeaca6ba8923471390edcfb75b822c40"
      ],
      "layout": "IPY_MODEL_6a3c08cbdf26479aad971bad49394336"
     }
    },
    "7b1fce36692d4aeb8b821389b4b18ae3": {
     "model_module": "@jupyter-widgets/controls",
     "model_module_version": "1.5.0",
     "model_name": "HTMLModel",
     "state": {
      "_dom_classes": [],
      "_model_module": "@jupyter-widgets/controls",
      "_model_module_version": "1.5.0",
      "_model_name": "HTMLModel",
      "_view_count": null,
      "_view_module": "@jupyter-widgets/controls",
      "_view_module_version": "1.5.0",
      "_view_name": "HTMLView",
      "description": "",
      "description_tooltip": null,
      "layout": "IPY_MODEL_4466b894c382470fb17fa8cb123079f9",
      "placeholder": "​",
      "style": "IPY_MODEL_ca067077d7514459b2ce325bbf6f189f",
      "value": "tokenizer_config.json: 100%"
     }
    },
    "7c7dda9d9808412fbff64a11b8a67d7d": {
     "model_module": "@jupyter-widgets/controls",
     "model_module_version": "1.5.0",
     "model_name": "DescriptionStyleModel",
     "state": {
      "_model_module": "@jupyter-widgets/controls",
      "_model_module_version": "1.5.0",
      "_model_name": "DescriptionStyleModel",
      "_view_count": null,
      "_view_module": "@jupyter-widgets/base",
      "_view_module_version": "1.2.0",
      "_view_name": "StyleView",
      "description_width": ""
     }
    },
    "7e13418afcde49c5a89606779233c12a": {
     "model_module": "@jupyter-widgets/base",
     "model_module_version": "1.2.0",
     "model_name": "LayoutModel",
     "state": {
      "_model_module": "@jupyter-widgets/base",
      "_model_module_version": "1.2.0",
      "_model_name": "LayoutModel",
      "_view_count": null,
      "_view_module": "@jupyter-widgets/base",
      "_view_module_version": "1.2.0",
      "_view_name": "LayoutView",
      "align_content": null,
      "align_items": null,
      "align_self": null,
      "border": null,
      "bottom": null,
      "display": null,
      "flex": null,
      "flex_flow": null,
      "grid_area": null,
      "grid_auto_columns": null,
      "grid_auto_flow": null,
      "grid_auto_rows": null,
      "grid_column": null,
      "grid_gap": null,
      "grid_row": null,
      "grid_template_areas": null,
      "grid_template_columns": null,
      "grid_template_rows": null,
      "height": null,
      "justify_content": null,
      "justify_items": null,
      "left": null,
      "margin": null,
      "max_height": null,
      "max_width": null,
      "min_height": null,
      "min_width": null,
      "object_fit": null,
      "object_position": null,
      "order": null,
      "overflow": null,
      "overflow_x": null,
      "overflow_y": null,
      "padding": null,
      "right": null,
      "top": null,
      "visibility": null,
      "width": null
     }
    },
    "8242d77b2288459d957c840711ecf0e6": {
     "model_module": "@jupyter-widgets/controls",
     "model_module_version": "1.5.0",
     "model_name": "ProgressStyleModel",
     "state": {
      "_model_module": "@jupyter-widgets/controls",
      "_model_module_version": "1.5.0",
      "_model_name": "ProgressStyleModel",
      "_view_count": null,
      "_view_module": "@jupyter-widgets/base",
      "_view_module_version": "1.2.0",
      "_view_name": "StyleView",
      "bar_color": null,
      "description_width": ""
     }
    },
    "83b662893a704ce7add538cacf9c8f9a": {
     "model_module": "@jupyter-widgets/base",
     "model_module_version": "1.2.0",
     "model_name": "LayoutModel",
     "state": {
      "_model_module": "@jupyter-widgets/base",
      "_model_module_version": "1.2.0",
      "_model_name": "LayoutModel",
      "_view_count": null,
      "_view_module": "@jupyter-widgets/base",
      "_view_module_version": "1.2.0",
      "_view_name": "LayoutView",
      "align_content": null,
      "align_items": null,
      "align_self": null,
      "border": null,
      "bottom": null,
      "display": null,
      "flex": null,
      "flex_flow": null,
      "grid_area": null,
      "grid_auto_columns": null,
      "grid_auto_flow": null,
      "grid_auto_rows": null,
      "grid_column": null,
      "grid_gap": null,
      "grid_row": null,
      "grid_template_areas": null,
      "grid_template_columns": null,
      "grid_template_rows": null,
      "height": null,
      "justify_content": null,
      "justify_items": null,
      "left": null,
      "margin": null,
      "max_height": null,
      "max_width": null,
      "min_height": null,
      "min_width": null,
      "object_fit": null,
      "object_position": null,
      "order": null,
      "overflow": null,
      "overflow_x": null,
      "overflow_y": null,
      "padding": null,
      "right": null,
      "top": null,
      "visibility": null,
      "width": null
     }
    },
    "8cb7e3f0215243aab9f38cf192b72882": {
     "model_module": "@jupyter-widgets/controls",
     "model_module_version": "1.5.0",
     "model_name": "HTMLModel",
     "state": {
      "_dom_classes": [],
      "_model_module": "@jupyter-widgets/controls",
      "_model_module_version": "1.5.0",
      "_model_name": "HTMLModel",
      "_view_count": null,
      "_view_module": "@jupyter-widgets/controls",
      "_view_module_version": "1.5.0",
      "_view_name": "HTMLView",
      "description": "",
      "description_tooltip": null,
      "layout": "IPY_MODEL_2737e7e3409649fcad6b678fa0ae1877",
      "placeholder": "​",
      "style": "IPY_MODEL_f8804af54e00458ead57f4ace27bb72b",
      "value": " 1.36M/1.36M [00:00&lt;00:00, 49.4MB/s]"
     }
    },
    "8e718f9b7afc429f9e2b1e58061345ea": {
     "model_module": "@jupyter-widgets/base",
     "model_module_version": "1.2.0",
     "model_name": "LayoutModel",
     "state": {
      "_model_module": "@jupyter-widgets/base",
      "_model_module_version": "1.2.0",
      "_model_name": "LayoutModel",
      "_view_count": null,
      "_view_module": "@jupyter-widgets/base",
      "_view_module_version": "1.2.0",
      "_view_name": "LayoutView",
      "align_content": null,
      "align_items": null,
      "align_self": null,
      "border": null,
      "bottom": null,
      "display": null,
      "flex": null,
      "flex_flow": null,
      "grid_area": null,
      "grid_auto_columns": null,
      "grid_auto_flow": null,
      "grid_auto_rows": null,
      "grid_column": null,
      "grid_gap": null,
      "grid_row": null,
      "grid_template_areas": null,
      "grid_template_columns": null,
      "grid_template_rows": null,
      "height": null,
      "justify_content": null,
      "justify_items": null,
      "left": null,
      "margin": null,
      "max_height": null,
      "max_width": null,
      "min_height": null,
      "min_width": null,
      "object_fit": null,
      "object_position": null,
      "order": null,
      "overflow": null,
      "overflow_x": null,
      "overflow_y": null,
      "padding": null,
      "right": null,
      "top": null,
      "visibility": null,
      "width": null
     }
    },
    "9036ffd4a4f14087933f1b4c1b5db0b0": {
     "model_module": "@jupyter-widgets/controls",
     "model_module_version": "1.5.0",
     "model_name": "HTMLModel",
     "state": {
      "_dom_classes": [],
      "_model_module": "@jupyter-widgets/controls",
      "_model_module_version": "1.5.0",
      "_model_name": "HTMLModel",
      "_view_count": null,
      "_view_module": "@jupyter-widgets/controls",
      "_view_module_version": "1.5.0",
      "_view_name": "HTMLView",
      "description": "",
      "description_tooltip": null,
      "layout": "IPY_MODEL_d12f9c02881f4faf9a8a9904fd94615a",
      "placeholder": "​",
      "style": "IPY_MODEL_a9c4407921864aaea2535966388cf20a",
      "value": "pytorch_model.bin: 100%"
     }
    },
    "92472178517e4509891e649f9f362ff3": {
     "model_module": "@jupyter-widgets/controls",
     "model_module_version": "1.5.0",
     "model_name": "ProgressStyleModel",
     "state": {
      "_model_module": "@jupyter-widgets/controls",
      "_model_module_version": "1.5.0",
      "_model_name": "ProgressStyleModel",
      "_view_count": null,
      "_view_module": "@jupyter-widgets/base",
      "_view_module_version": "1.2.0",
      "_view_name": "StyleView",
      "bar_color": null,
      "description_width": ""
     }
    },
    "941697830c494cf491ec45b8093d2bc4": {
     "model_module": "@jupyter-widgets/controls",
     "model_module_version": "1.5.0",
     "model_name": "HTMLModel",
     "state": {
      "_dom_classes": [],
      "_model_module": "@jupyter-widgets/controls",
      "_model_module_version": "1.5.0",
      "_model_name": "HTMLModel",
      "_view_count": null,
      "_view_module": "@jupyter-widgets/controls",
      "_view_module_version": "1.5.0",
      "_view_name": "HTMLView",
      "description": "",
      "description_tooltip": null,
      "layout": "IPY_MODEL_dfdb7675f15643de98703c329a5875ff",
      "placeholder": "​",
      "style": "IPY_MODEL_f5b8d14037eb4f3ba55d2aac78cb6f02",
      "value": " 46.4k/46.4k [00:00&lt;00:00, 4.24MB/s]"
     }
    },
    "9940ee313f0546dd80558df1755c2ce7": {
     "model_module": "@jupyter-widgets/controls",
     "model_module_version": "1.5.0",
     "model_name": "HTMLModel",
     "state": {
      "_dom_classes": [],
      "_model_module": "@jupyter-widgets/controls",
      "_model_module_version": "1.5.0",
      "_model_name": "HTMLModel",
      "_view_count": null,
      "_view_module": "@jupyter-widgets/controls",
      "_view_module_version": "1.5.0",
      "_view_name": "HTMLView",
      "description": "",
      "description_tooltip": null,
      "layout": "IPY_MODEL_577c671467864249ba99206de6c35acc",
      "placeholder": "​",
      "style": "IPY_MODEL_61edebd36ae74e049750bc38ff92030d",
      "value": " 1.54G/1.54G [00:10&lt;00:00, 177MB/s]"
     }
    },
    "9957664993684eb88bb0b2c95bf3ef70": {
     "model_module": "@jupyter-widgets/base",
     "model_module_version": "1.2.0",
     "model_name": "LayoutModel",
     "state": {
      "_model_module": "@jupyter-widgets/base",
      "_model_module_version": "1.2.0",
      "_model_name": "LayoutModel",
      "_view_count": null,
      "_view_module": "@jupyter-widgets/base",
      "_view_module_version": "1.2.0",
      "_view_name": "LayoutView",
      "align_content": null,
      "align_items": null,
      "align_self": null,
      "border": null,
      "bottom": null,
      "display": null,
      "flex": null,
      "flex_flow": null,
      "grid_area": null,
      "grid_auto_columns": null,
      "grid_auto_flow": null,
      "grid_auto_rows": null,
      "grid_column": null,
      "grid_gap": null,
      "grid_row": null,
      "grid_template_areas": null,
      "grid_template_columns": null,
      "grid_template_rows": null,
      "height": null,
      "justify_content": null,
      "justify_items": null,
      "left": null,
      "margin": null,
      "max_height": null,
      "max_width": null,
      "min_height": null,
      "min_width": null,
      "object_fit": null,
      "object_position": null,
      "order": null,
      "overflow": null,
      "overflow_x": null,
      "overflow_y": null,
      "padding": null,
      "right": null,
      "top": null,
      "visibility": null,
      "width": null
     }
    },
    "99c64d036abd47d5ac7931f9ba2ffef5": {
     "model_module": "@jupyter-widgets/base",
     "model_module_version": "1.2.0",
     "model_name": "LayoutModel",
     "state": {
      "_model_module": "@jupyter-widgets/base",
      "_model_module_version": "1.2.0",
      "_model_name": "LayoutModel",
      "_view_count": null,
      "_view_module": "@jupyter-widgets/base",
      "_view_module_version": "1.2.0",
      "_view_name": "LayoutView",
      "align_content": null,
      "align_items": null,
      "align_self": null,
      "border": null,
      "bottom": null,
      "display": null,
      "flex": null,
      "flex_flow": null,
      "grid_area": null,
      "grid_auto_columns": null,
      "grid_auto_flow": null,
      "grid_auto_rows": null,
      "grid_column": null,
      "grid_gap": null,
      "grid_row": null,
      "grid_template_areas": null,
      "grid_template_columns": null,
      "grid_template_rows": null,
      "height": null,
      "justify_content": null,
      "justify_items": null,
      "left": null,
      "margin": null,
      "max_height": null,
      "max_width": null,
      "min_height": null,
      "min_width": null,
      "object_fit": null,
      "object_position": null,
      "order": null,
      "overflow": null,
      "overflow_x": null,
      "overflow_y": null,
      "padding": null,
      "right": null,
      "top": null,
      "visibility": null,
      "width": null
     }
    },
    "9a3a288a1b9c419087575b44408c17e9": {
     "model_module": "@jupyter-widgets/base",
     "model_module_version": "1.2.0",
     "model_name": "LayoutModel",
     "state": {
      "_model_module": "@jupyter-widgets/base",
      "_model_module_version": "1.2.0",
      "_model_name": "LayoutModel",
      "_view_count": null,
      "_view_module": "@jupyter-widgets/base",
      "_view_module_version": "1.2.0",
      "_view_name": "LayoutView",
      "align_content": null,
      "align_items": null,
      "align_self": null,
      "border": null,
      "bottom": null,
      "display": null,
      "flex": null,
      "flex_flow": null,
      "grid_area": null,
      "grid_auto_columns": null,
      "grid_auto_flow": null,
      "grid_auto_rows": null,
      "grid_column": null,
      "grid_gap": null,
      "grid_row": null,
      "grid_template_areas": null,
      "grid_template_columns": null,
      "grid_template_rows": null,
      "height": null,
      "justify_content": null,
      "justify_items": null,
      "left": null,
      "margin": null,
      "max_height": null,
      "max_width": null,
      "min_height": null,
      "min_width": null,
      "object_fit": null,
      "object_position": null,
      "order": null,
      "overflow": null,
      "overflow_x": null,
      "overflow_y": null,
      "padding": null,
      "right": null,
      "top": null,
      "visibility": null,
      "width": null
     }
    },
    "9b7d61574e0f460aa9d82e00ea56e644": {
     "model_module": "@jupyter-widgets/base",
     "model_module_version": "1.2.0",
     "model_name": "LayoutModel",
     "state": {
      "_model_module": "@jupyter-widgets/base",
      "_model_module_version": "1.2.0",
      "_model_name": "LayoutModel",
      "_view_count": null,
      "_view_module": "@jupyter-widgets/base",
      "_view_module_version": "1.2.0",
      "_view_name": "LayoutView",
      "align_content": null,
      "align_items": null,
      "align_self": null,
      "border": null,
      "bottom": null,
      "display": null,
      "flex": null,
      "flex_flow": null,
      "grid_area": null,
      "grid_auto_columns": null,
      "grid_auto_flow": null,
      "grid_auto_rows": null,
      "grid_column": null,
      "grid_gap": null,
      "grid_row": null,
      "grid_template_areas": null,
      "grid_template_columns": null,
      "grid_template_rows": null,
      "height": null,
      "justify_content": null,
      "justify_items": null,
      "left": null,
      "margin": null,
      "max_height": null,
      "max_width": null,
      "min_height": null,
      "min_width": null,
      "object_fit": null,
      "object_position": null,
      "order": null,
      "overflow": null,
      "overflow_x": null,
      "overflow_y": null,
      "padding": null,
      "right": null,
      "top": null,
      "visibility": null,
      "width": null
     }
    },
    "9f71cac4d777490dab2fc017f3a3b57a": {
     "model_module": "@jupyter-widgets/controls",
     "model_module_version": "1.5.0",
     "model_name": "HBoxModel",
     "state": {
      "_dom_classes": [],
      "_model_module": "@jupyter-widgets/controls",
      "_model_module_version": "1.5.0",
      "_model_name": "HBoxModel",
      "_view_count": null,
      "_view_module": "@jupyter-widgets/controls",
      "_view_module_version": "1.5.0",
      "_view_name": "HBoxView",
      "box_style": "",
      "children": [
       "IPY_MODEL_da65023c71d3458690672099aecdd6ae",
       "IPY_MODEL_ac1732fdf3ca422f81ff4d080e832c29",
       "IPY_MODEL_941697830c494cf491ec45b8093d2bc4"
      ],
      "layout": "IPY_MODEL_9957664993684eb88bb0b2c95bf3ef70"
     }
    },
    "a49f08757ede4453bbbe4bb83c6817c4": {
     "model_module": "@jupyter-widgets/controls",
     "model_module_version": "1.5.0",
     "model_name": "DescriptionStyleModel",
     "state": {
      "_model_module": "@jupyter-widgets/controls",
      "_model_module_version": "1.5.0",
      "_model_name": "DescriptionStyleModel",
      "_view_count": null,
      "_view_module": "@jupyter-widgets/base",
      "_view_module_version": "1.2.0",
      "_view_name": "StyleView",
      "description_width": ""
     }
    },
    "a50486d0815246bbb73bc7fbcbf71f4d": {
     "model_module": "@jupyter-widgets/controls",
     "model_module_version": "1.5.0",
     "model_name": "ProgressStyleModel",
     "state": {
      "_model_module": "@jupyter-widgets/controls",
      "_model_module_version": "1.5.0",
      "_model_name": "ProgressStyleModel",
      "_view_count": null,
      "_view_module": "@jupyter-widgets/base",
      "_view_module_version": "1.2.0",
      "_view_name": "StyleView",
      "bar_color": null,
      "description_width": ""
     }
    },
    "a9c4407921864aaea2535966388cf20a": {
     "model_module": "@jupyter-widgets/controls",
     "model_module_version": "1.5.0",
     "model_name": "DescriptionStyleModel",
     "state": {
      "_model_module": "@jupyter-widgets/controls",
      "_model_module_version": "1.5.0",
      "_model_name": "DescriptionStyleModel",
      "_view_count": null,
      "_view_module": "@jupyter-widgets/base",
      "_view_module_version": "1.2.0",
      "_view_name": "StyleView",
      "description_width": ""
     }
    },
    "ac1732fdf3ca422f81ff4d080e832c29": {
     "model_module": "@jupyter-widgets/controls",
     "model_module_version": "1.5.0",
     "model_name": "FloatProgressModel",
     "state": {
      "_dom_classes": [],
      "_model_module": "@jupyter-widgets/controls",
      "_model_module_version": "1.5.0",
      "_model_name": "FloatProgressModel",
      "_view_count": null,
      "_view_module": "@jupyter-widgets/controls",
      "_view_module_version": "1.5.0",
      "_view_name": "ProgressView",
      "bar_style": "success",
      "description": "",
      "description_tooltip": null,
      "layout": "IPY_MODEL_3e7248cc0e1344bf8e618f89b8ae159f",
      "max": 46371,
      "min": 0,
      "orientation": "horizontal",
      "style": "IPY_MODEL_7510d30fe6e7492d922c64e794a196b2",
      "value": 46371
     }
    },
    "adee1c90d2e64f888a8f66859f21c5a5": {
     "model_module": "@jupyter-widgets/base",
     "model_module_version": "1.2.0",
     "model_name": "LayoutModel",
     "state": {
      "_model_module": "@jupyter-widgets/base",
      "_model_module_version": "1.2.0",
      "_model_name": "LayoutModel",
      "_view_count": null,
      "_view_module": "@jupyter-widgets/base",
      "_view_module_version": "1.2.0",
      "_view_name": "LayoutView",
      "align_content": null,
      "align_items": null,
      "align_self": null,
      "border": null,
      "bottom": null,
      "display": null,
      "flex": null,
      "flex_flow": null,
      "grid_area": null,
      "grid_auto_columns": null,
      "grid_auto_flow": null,
      "grid_auto_rows": null,
      "grid_column": null,
      "grid_gap": null,
      "grid_row": null,
      "grid_template_areas": null,
      "grid_template_columns": null,
      "grid_template_rows": null,
      "height": null,
      "justify_content": null,
      "justify_items": null,
      "left": null,
      "margin": null,
      "max_height": null,
      "max_width": null,
      "min_height": null,
      "min_width": null,
      "object_fit": null,
      "object_position": null,
      "order": null,
      "overflow": null,
      "overflow_x": null,
      "overflow_y": null,
      "padding": null,
      "right": null,
      "top": null,
      "visibility": null,
      "width": null
     }
    },
    "ae16c659ebea431993d64709a3869cb0": {
     "model_module": "@jupyter-widgets/controls",
     "model_module_version": "1.5.0",
     "model_name": "FloatProgressModel",
     "state": {
      "_dom_classes": [],
      "_model_module": "@jupyter-widgets/controls",
      "_model_module_version": "1.5.0",
      "_model_name": "FloatProgressModel",
      "_view_count": null,
      "_view_module": "@jupyter-widgets/controls",
      "_view_module_version": "1.5.0",
      "_view_name": "ProgressView",
      "bar_style": "success",
      "description": "",
      "description_tooltip": null,
      "layout": "IPY_MODEL_fec3268b77e24775bf10404ff710ad1f",
      "max": 51,
      "min": 0,
      "orientation": "horizontal",
      "style": "IPY_MODEL_dac3ca6c984a4ae0bff14a0c32917f57",
      "value": 51
     }
    },
    "af1c1d35e2334fe5ab0f2a7c222268bb": {
     "model_module": "@jupyter-widgets/base",
     "model_module_version": "1.2.0",
     "model_name": "LayoutModel",
     "state": {
      "_model_module": "@jupyter-widgets/base",
      "_model_module_version": "1.2.0",
      "_model_name": "LayoutModel",
      "_view_count": null,
      "_view_module": "@jupyter-widgets/base",
      "_view_module_version": "1.2.0",
      "_view_name": "LayoutView",
      "align_content": null,
      "align_items": null,
      "align_self": null,
      "border": null,
      "bottom": null,
      "display": null,
      "flex": null,
      "flex_flow": null,
      "grid_area": null,
      "grid_auto_columns": null,
      "grid_auto_flow": null,
      "grid_auto_rows": null,
      "grid_column": null,
      "grid_gap": null,
      "grid_row": null,
      "grid_template_areas": null,
      "grid_template_columns": null,
      "grid_template_rows": null,
      "height": null,
      "justify_content": null,
      "justify_items": null,
      "left": null,
      "margin": null,
      "max_height": null,
      "max_width": null,
      "min_height": null,
      "min_width": null,
      "object_fit": null,
      "object_position": null,
      "order": null,
      "overflow": null,
      "overflow_x": null,
      "overflow_y": null,
      "padding": null,
      "right": null,
      "top": null,
      "visibility": null,
      "width": null
     }
    },
    "afc7af47f8fb48cdb37be744019e984b": {
     "model_module": "@jupyter-widgets/base",
     "model_module_version": "1.2.0",
     "model_name": "LayoutModel",
     "state": {
      "_model_module": "@jupyter-widgets/base",
      "_model_module_version": "1.2.0",
      "_model_name": "LayoutModel",
      "_view_count": null,
      "_view_module": "@jupyter-widgets/base",
      "_view_module_version": "1.2.0",
      "_view_name": "LayoutView",
      "align_content": null,
      "align_items": null,
      "align_self": null,
      "border": null,
      "bottom": null,
      "display": null,
      "flex": null,
      "flex_flow": null,
      "grid_area": null,
      "grid_auto_columns": null,
      "grid_auto_flow": null,
      "grid_auto_rows": null,
      "grid_column": null,
      "grid_gap": null,
      "grid_row": null,
      "grid_template_areas": null,
      "grid_template_columns": null,
      "grid_template_rows": null,
      "height": null,
      "justify_content": null,
      "justify_items": null,
      "left": null,
      "margin": null,
      "max_height": null,
      "max_width": null,
      "min_height": null,
      "min_width": null,
      "object_fit": null,
      "object_position": null,
      "order": null,
      "overflow": null,
      "overflow_x": null,
      "overflow_y": null,
      "padding": null,
      "right": null,
      "top": null,
      "visibility": null,
      "width": null
     }
    },
    "b2d612bb8f3e4b358f63c2378a184b2f": {
     "model_module": "@jupyter-widgets/controls",
     "model_module_version": "1.5.0",
     "model_name": "HBoxModel",
     "state": {
      "_dom_classes": [],
      "_model_module": "@jupyter-widgets/controls",
      "_model_module_version": "1.5.0",
      "_model_name": "HBoxModel",
      "_view_count": null,
      "_view_module": "@jupyter-widgets/controls",
      "_view_module_version": "1.5.0",
      "_view_name": "HBoxView",
      "box_style": "",
      "children": [
       "IPY_MODEL_28a3409043f24a2ea026935173a8f2bf",
       "IPY_MODEL_067b65146a5f433d9cad0afc665a38ee",
       "IPY_MODEL_4db3d77a0b174d0cad57d73be57570c4"
      ],
      "layout": "IPY_MODEL_19534abdf862419b844c7b9b00862bba"
     }
    },
    "b4271e5c41c5461f8d65ec236b58f1db": {
     "model_module": "@jupyter-widgets/base",
     "model_module_version": "1.2.0",
     "model_name": "LayoutModel",
     "state": {
      "_model_module": "@jupyter-widgets/base",
      "_model_module_version": "1.2.0",
      "_model_name": "LayoutModel",
      "_view_count": null,
      "_view_module": "@jupyter-widgets/base",
      "_view_module_version": "1.2.0",
      "_view_name": "LayoutView",
      "align_content": null,
      "align_items": null,
      "align_self": null,
      "border": null,
      "bottom": null,
      "display": null,
      "flex": null,
      "flex_flow": null,
      "grid_area": null,
      "grid_auto_columns": null,
      "grid_auto_flow": null,
      "grid_auto_rows": null,
      "grid_column": null,
      "grid_gap": null,
      "grid_row": null,
      "grid_template_areas": null,
      "grid_template_columns": null,
      "grid_template_rows": null,
      "height": null,
      "justify_content": null,
      "justify_items": null,
      "left": null,
      "margin": null,
      "max_height": null,
      "max_width": null,
      "min_height": null,
      "min_width": null,
      "object_fit": null,
      "object_position": null,
      "order": null,
      "overflow": null,
      "overflow_x": null,
      "overflow_y": null,
      "padding": null,
      "right": null,
      "top": null,
      "visibility": null,
      "width": null
     }
    },
    "b655553a64a14131a0d94a04360ddd3d": {
     "model_module": "@jupyter-widgets/controls",
     "model_module_version": "1.5.0",
     "model_name": "HBoxModel",
     "state": {
      "_dom_classes": [],
      "_model_module": "@jupyter-widgets/controls",
      "_model_module_version": "1.5.0",
      "_model_name": "HBoxModel",
      "_view_count": null,
      "_view_module": "@jupyter-widgets/controls",
      "_view_module_version": "1.5.0",
      "_view_name": "HBoxView",
      "box_style": "",
      "children": [
       "IPY_MODEL_7b1fce36692d4aeb8b821389b4b18ae3",
       "IPY_MODEL_c0652abfddb84d269569f1a8e7fcaa7c",
       "IPY_MODEL_6dcc706e154e46e2b7b18dbad80447f6"
      ],
      "layout": "IPY_MODEL_3b4dbc47b39e4cd2aeda130eb6e8fab1"
     }
    },
    "b7e1d5742f7944ee8ff0de393bafa502": {
     "model_module": "@jupyter-widgets/base",
     "model_module_version": "1.2.0",
     "model_name": "LayoutModel",
     "state": {
      "_model_module": "@jupyter-widgets/base",
      "_model_module_version": "1.2.0",
      "_model_name": "LayoutModel",
      "_view_count": null,
      "_view_module": "@jupyter-widgets/base",
      "_view_module_version": "1.2.0",
      "_view_name": "LayoutView",
      "align_content": null,
      "align_items": null,
      "align_self": null,
      "border": null,
      "bottom": null,
      "display": null,
      "flex": null,
      "flex_flow": null,
      "grid_area": null,
      "grid_auto_columns": null,
      "grid_auto_flow": null,
      "grid_auto_rows": null,
      "grid_column": null,
      "grid_gap": null,
      "grid_row": null,
      "grid_template_areas": null,
      "grid_template_columns": null,
      "grid_template_rows": null,
      "height": null,
      "justify_content": null,
      "justify_items": null,
      "left": null,
      "margin": null,
      "max_height": null,
      "max_width": null,
      "min_height": null,
      "min_width": null,
      "object_fit": null,
      "object_position": null,
      "order": null,
      "overflow": null,
      "overflow_x": null,
      "overflow_y": null,
      "padding": null,
      "right": null,
      "top": null,
      "visibility": null,
      "width": null
     }
    },
    "b97e988fba6c4bd5926b7d051b6e5cc0": {
     "model_module": "@jupyter-widgets/base",
     "model_module_version": "1.2.0",
     "model_name": "LayoutModel",
     "state": {
      "_model_module": "@jupyter-widgets/base",
      "_model_module_version": "1.2.0",
      "_model_name": "LayoutModel",
      "_view_count": null,
      "_view_module": "@jupyter-widgets/base",
      "_view_module_version": "1.2.0",
      "_view_name": "LayoutView",
      "align_content": null,
      "align_items": null,
      "align_self": null,
      "border": null,
      "bottom": null,
      "display": null,
      "flex": null,
      "flex_flow": null,
      "grid_area": null,
      "grid_auto_columns": null,
      "grid_auto_flow": null,
      "grid_auto_rows": null,
      "grid_column": null,
      "grid_gap": null,
      "grid_row": null,
      "grid_template_areas": null,
      "grid_template_columns": null,
      "grid_template_rows": null,
      "height": null,
      "justify_content": null,
      "justify_items": null,
      "left": null,
      "margin": null,
      "max_height": null,
      "max_width": null,
      "min_height": null,
      "min_width": null,
      "object_fit": null,
      "object_position": null,
      "order": null,
      "overflow": null,
      "overflow_x": null,
      "overflow_y": null,
      "padding": null,
      "right": null,
      "top": null,
      "visibility": null,
      "width": null
     }
    },
    "bb6a3fba54834ce8b1a1fc52374336c0": {
     "model_module": "@jupyter-widgets/base",
     "model_module_version": "1.2.0",
     "model_name": "LayoutModel",
     "state": {
      "_model_module": "@jupyter-widgets/base",
      "_model_module_version": "1.2.0",
      "_model_name": "LayoutModel",
      "_view_count": null,
      "_view_module": "@jupyter-widgets/base",
      "_view_module_version": "1.2.0",
      "_view_name": "LayoutView",
      "align_content": null,
      "align_items": null,
      "align_self": null,
      "border": null,
      "bottom": null,
      "display": null,
      "flex": null,
      "flex_flow": null,
      "grid_area": null,
      "grid_auto_columns": null,
      "grid_auto_flow": null,
      "grid_auto_rows": null,
      "grid_column": null,
      "grid_gap": null,
      "grid_row": null,
      "grid_template_areas": null,
      "grid_template_columns": null,
      "grid_template_rows": null,
      "height": null,
      "justify_content": null,
      "justify_items": null,
      "left": null,
      "margin": null,
      "max_height": null,
      "max_width": null,
      "min_height": null,
      "min_width": null,
      "object_fit": null,
      "object_position": null,
      "order": null,
      "overflow": null,
      "overflow_x": null,
      "overflow_y": null,
      "padding": null,
      "right": null,
      "top": null,
      "visibility": null,
      "width": null
     }
    },
    "bb93feb8a136472380c17e7a994f67bc": {
     "model_module": "@jupyter-widgets/controls",
     "model_module_version": "1.5.0",
     "model_name": "DescriptionStyleModel",
     "state": {
      "_model_module": "@jupyter-widgets/controls",
      "_model_module_version": "1.5.0",
      "_model_name": "DescriptionStyleModel",
      "_view_count": null,
      "_view_module": "@jupyter-widgets/base",
      "_view_module_version": "1.2.0",
      "_view_name": "StyleView",
      "description_width": ""
     }
    },
    "bf70517eb4a443cfac64e8c03ddaae00": {
     "model_module": "@jupyter-widgets/base",
     "model_module_version": "1.2.0",
     "model_name": "LayoutModel",
     "state": {
      "_model_module": "@jupyter-widgets/base",
      "_model_module_version": "1.2.0",
      "_model_name": "LayoutModel",
      "_view_count": null,
      "_view_module": "@jupyter-widgets/base",
      "_view_module_version": "1.2.0",
      "_view_name": "LayoutView",
      "align_content": null,
      "align_items": null,
      "align_self": null,
      "border": null,
      "bottom": null,
      "display": null,
      "flex": null,
      "flex_flow": null,
      "grid_area": null,
      "grid_auto_columns": null,
      "grid_auto_flow": null,
      "grid_auto_rows": null,
      "grid_column": null,
      "grid_gap": null,
      "grid_row": null,
      "grid_template_areas": null,
      "grid_template_columns": null,
      "grid_template_rows": null,
      "height": null,
      "justify_content": null,
      "justify_items": null,
      "left": null,
      "margin": null,
      "max_height": null,
      "max_width": null,
      "min_height": null,
      "min_width": null,
      "object_fit": null,
      "object_position": null,
      "order": null,
      "overflow": null,
      "overflow_x": null,
      "overflow_y": null,
      "padding": null,
      "right": null,
      "top": null,
      "visibility": null,
      "width": null
     }
    },
    "c0652abfddb84d269569f1a8e7fcaa7c": {
     "model_module": "@jupyter-widgets/controls",
     "model_module_version": "1.5.0",
     "model_name": "FloatProgressModel",
     "state": {
      "_dom_classes": [],
      "_model_module": "@jupyter-widgets/controls",
      "_model_module_version": "1.5.0",
      "_model_name": "FloatProgressModel",
      "_view_count": null,
      "_view_module": "@jupyter-widgets/controls",
      "_view_module_version": "1.5.0",
      "_view_name": "ProgressView",
      "bar_style": "success",
      "description": "",
      "description_tooltip": null,
      "layout": "IPY_MODEL_1ae17691fd0748c0a5261c4a7f37ba79",
      "max": 34,
      "min": 0,
      "orientation": "horizontal",
      "style": "IPY_MODEL_27dd8161c40e42e0a9df91ba2cc9b766",
      "value": 34
     }
    },
    "c354c75221aa48f5ab7008143f46d7a5": {
     "model_module": "@jupyter-widgets/controls",
     "model_module_version": "1.5.0",
     "model_name": "HTMLModel",
     "state": {
      "_dom_classes": [],
      "_model_module": "@jupyter-widgets/controls",
      "_model_module_version": "1.5.0",
      "_model_name": "HTMLModel",
      "_view_count": null,
      "_view_module": "@jupyter-widgets/controls",
      "_view_module_version": "1.5.0",
      "_view_name": "HTMLView",
      "description": "",
      "description_tooltip": null,
      "layout": "IPY_MODEL_adee1c90d2e64f888a8f66859f21c5a5",
      "placeholder": "​",
      "style": "IPY_MODEL_f194f06cd01343f3a956b957843c2b3c",
      "value": " 127k/127k [00:00&lt;00:00, 4.39MB/s]"
     }
    },
    "c57d53803808442bb09e4a63aa09502d": {
     "model_module": "@jupyter-widgets/controls",
     "model_module_version": "1.5.0",
     "model_name": "FloatProgressModel",
     "state": {
      "_dom_classes": [],
      "_model_module": "@jupyter-widgets/controls",
      "_model_module_version": "1.5.0",
      "_model_name": "FloatProgressModel",
      "_view_count": null,
      "_view_module": "@jupyter-widgets/controls",
      "_view_module_version": "1.5.0",
      "_view_name": "ProgressView",
      "bar_style": "success",
      "description": "",
      "description_tooltip": null,
      "layout": "IPY_MODEL_bf70517eb4a443cfac64e8c03ddaae00",
      "max": 2445,
      "min": 0,
      "orientation": "horizontal",
      "style": "IPY_MODEL_09e2b93c5bd24c4a9b9b9948650c26b9",
      "value": 2445
     }
    },
    "c62feaf9b9134d50a6e8ec18908d85c6": {
     "model_module": "@jupyter-widgets/controls",
     "model_module_version": "1.5.0",
     "model_name": "HTMLModel",
     "state": {
      "_dom_classes": [],
      "_model_module": "@jupyter-widgets/controls",
      "_model_module_version": "1.5.0",
      "_model_name": "HTMLModel",
      "_view_count": null,
      "_view_module": "@jupyter-widgets/controls",
      "_view_module_version": "1.5.0",
      "_view_name": "HTMLView",
      "description": "",
      "description_tooltip": null,
      "layout": "IPY_MODEL_4ce89c8a433f498db66ab979d74b1a6d",
      "placeholder": "​",
      "style": "IPY_MODEL_bb93feb8a136472380c17e7a994f67bc",
      "value": " 1.10M/1.10M [00:00&lt;00:00, 23.0MB/s]"
     }
    },
    "c849980e978e41c5ac1db6332c4a2310": {
     "model_module": "@jupyter-widgets/controls",
     "model_module_version": "1.5.0",
     "model_name": "HBoxModel",
     "state": {
      "_dom_classes": [],
      "_model_module": "@jupyter-widgets/controls",
      "_model_module_version": "1.5.0",
      "_model_name": "HBoxModel",
      "_view_count": null,
      "_view_module": "@jupyter-widgets/controls",
      "_view_module_version": "1.5.0",
      "_view_name": "HBoxView",
      "box_style": "",
      "children": [
       "IPY_MODEL_625a96b7096449abb66935133c7695c9",
       "IPY_MODEL_ae16c659ebea431993d64709a3869cb0",
       "IPY_MODEL_db5b5e98aeb34e07bb7d7ae77a608509"
      ],
      "layout": "IPY_MODEL_9b7d61574e0f460aa9d82e00ea56e644"
     }
    },
    "ca067077d7514459b2ce325bbf6f189f": {
     "model_module": "@jupyter-widgets/controls",
     "model_module_version": "1.5.0",
     "model_name": "DescriptionStyleModel",
     "state": {
      "_model_module": "@jupyter-widgets/controls",
      "_model_module_version": "1.5.0",
      "_model_name": "DescriptionStyleModel",
      "_view_count": null,
      "_view_module": "@jupyter-widgets/base",
      "_view_module_version": "1.2.0",
      "_view_name": "StyleView",
      "description_width": ""
     }
    },
    "cc4e5d9ac9684c658f8da96f7e9779bf": {
     "model_module": "@jupyter-widgets/base",
     "model_module_version": "1.2.0",
     "model_name": "LayoutModel",
     "state": {
      "_model_module": "@jupyter-widgets/base",
      "_model_module_version": "1.2.0",
      "_model_name": "LayoutModel",
      "_view_count": null,
      "_view_module": "@jupyter-widgets/base",
      "_view_module_version": "1.2.0",
      "_view_name": "LayoutView",
      "align_content": null,
      "align_items": null,
      "align_self": null,
      "border": null,
      "bottom": null,
      "display": null,
      "flex": null,
      "flex_flow": null,
      "grid_area": null,
      "grid_auto_columns": null,
      "grid_auto_flow": null,
      "grid_auto_rows": null,
      "grid_column": null,
      "grid_gap": null,
      "grid_row": null,
      "grid_template_areas": null,
      "grid_template_columns": null,
      "grid_template_rows": null,
      "height": null,
      "justify_content": null,
      "justify_items": null,
      "left": null,
      "margin": null,
      "max_height": null,
      "max_width": null,
      "min_height": null,
      "min_width": null,
      "object_fit": null,
      "object_position": null,
      "order": null,
      "overflow": null,
      "overflow_x": null,
      "overflow_y": null,
      "padding": null,
      "right": null,
      "top": null,
      "visibility": null,
      "width": null
     }
    },
    "d12f9c02881f4faf9a8a9904fd94615a": {
     "model_module": "@jupyter-widgets/base",
     "model_module_version": "1.2.0",
     "model_name": "LayoutModel",
     "state": {
      "_model_module": "@jupyter-widgets/base",
      "_model_module_version": "1.2.0",
      "_model_name": "LayoutModel",
      "_view_count": null,
      "_view_module": "@jupyter-widgets/base",
      "_view_module_version": "1.2.0",
      "_view_name": "LayoutView",
      "align_content": null,
      "align_items": null,
      "align_self": null,
      "border": null,
      "bottom": null,
      "display": null,
      "flex": null,
      "flex_flow": null,
      "grid_area": null,
      "grid_auto_columns": null,
      "grid_auto_flow": null,
      "grid_auto_rows": null,
      "grid_column": null,
      "grid_gap": null,
      "grid_row": null,
      "grid_template_areas": null,
      "grid_template_columns": null,
      "grid_template_rows": null,
      "height": null,
      "justify_content": null,
      "justify_items": null,
      "left": null,
      "margin": null,
      "max_height": null,
      "max_width": null,
      "min_height": null,
      "min_width": null,
      "object_fit": null,
      "object_position": null,
      "order": null,
      "overflow": null,
      "overflow_x": null,
      "overflow_y": null,
      "padding": null,
      "right": null,
      "top": null,
      "visibility": null,
      "width": null
     }
    },
    "d70320c6161145c2a6a25f6c76a1b7c5": {
     "model_module": "@jupyter-widgets/controls",
     "model_module_version": "1.5.0",
     "model_name": "HBoxModel",
     "state": {
      "_dom_classes": [],
      "_model_module": "@jupyter-widgets/controls",
      "_model_module_version": "1.5.0",
      "_model_name": "HBoxModel",
      "_view_count": null,
      "_view_module": "@jupyter-widgets/controls",
      "_view_module_version": "1.5.0",
      "_view_name": "HBoxView",
      "box_style": "",
      "children": [
       "IPY_MODEL_39f551bc153f4ec1a1de9252d447465d",
       "IPY_MODEL_2edee6eaa4c24bb8afdb4b91d7ca99a4",
       "IPY_MODEL_c62feaf9b9134d50a6e8ec18908d85c6"
      ],
      "layout": "IPY_MODEL_cc4e5d9ac9684c658f8da96f7e9779bf"
     }
    },
    "da65023c71d3458690672099aecdd6ae": {
     "model_module": "@jupyter-widgets/controls",
     "model_module_version": "1.5.0",
     "model_name": "HTMLModel",
     "state": {
      "_dom_classes": [],
      "_model_module": "@jupyter-widgets/controls",
      "_model_module_version": "1.5.0",
      "_model_name": "HTMLModel",
      "_view_count": null,
      "_view_module": "@jupyter-widgets/controls",
      "_view_module_version": "1.5.0",
      "_view_name": "HTMLView",
      "description": "",
      "description_tooltip": null,
      "layout": "IPY_MODEL_354d2668ee1f43ee99185798d2d3211b",
      "placeholder": "​",
      "style": "IPY_MODEL_a49f08757ede4453bbbe4bb83c6817c4",
      "value": "processing_florence2.py: 100%"
     }
    },
    "dac3ca6c984a4ae0bff14a0c32917f57": {
     "model_module": "@jupyter-widgets/controls",
     "model_module_version": "1.5.0",
     "model_name": "ProgressStyleModel",
     "state": {
      "_model_module": "@jupyter-widgets/controls",
      "_model_module_version": "1.5.0",
      "_model_name": "ProgressStyleModel",
      "_view_count": null,
      "_view_module": "@jupyter-widgets/base",
      "_view_module_version": "1.2.0",
      "_view_name": "StyleView",
      "bar_color": null,
      "description_width": ""
     }
    },
    "db5b5e98aeb34e07bb7d7ae77a608509": {
     "model_module": "@jupyter-widgets/controls",
     "model_module_version": "1.5.0",
     "model_name": "HTMLModel",
     "state": {
      "_dom_classes": [],
      "_model_module": "@jupyter-widgets/controls",
      "_model_module_version": "1.5.0",
      "_model_name": "HTMLModel",
      "_view_count": null,
      "_view_module": "@jupyter-widgets/controls",
      "_view_module_version": "1.5.0",
      "_view_name": "HTMLView",
      "description": "",
      "description_tooltip": null,
      "layout": "IPY_MODEL_28583354385a492692756d41c77c7dfe",
      "placeholder": "​",
      "style": "IPY_MODEL_140c9b229f1d41439336839a678e0060",
      "value": " 51.0/51.0 [00:00&lt;00:00, 4.01kB/s]"
     }
    },
    "db7d8bc45b4645a48b09782217c1884e": {
     "model_module": "@jupyter-widgets/controls",
     "model_module_version": "1.5.0",
     "model_name": "ProgressStyleModel",
     "state": {
      "_model_module": "@jupyter-widgets/controls",
      "_model_module_version": "1.5.0",
      "_model_name": "ProgressStyleModel",
      "_view_count": null,
      "_view_module": "@jupyter-widgets/base",
      "_view_module_version": "1.2.0",
      "_view_name": "StyleView",
      "bar_color": null,
      "description_width": ""
     }
    },
    "df8d89ec656c4e7181c8f2587686093a": {
     "model_module": "@jupyter-widgets/controls",
     "model_module_version": "1.5.0",
     "model_name": "DescriptionStyleModel",
     "state": {
      "_model_module": "@jupyter-widgets/controls",
      "_model_module_version": "1.5.0",
      "_model_name": "DescriptionStyleModel",
      "_view_count": null,
      "_view_module": "@jupyter-widgets/base",
      "_view_module_version": "1.2.0",
      "_view_name": "StyleView",
      "description_width": ""
     }
    },
    "dfdb7675f15643de98703c329a5875ff": {
     "model_module": "@jupyter-widgets/base",
     "model_module_version": "1.2.0",
     "model_name": "LayoutModel",
     "state": {
      "_model_module": "@jupyter-widgets/base",
      "_model_module_version": "1.2.0",
      "_model_name": "LayoutModel",
      "_view_count": null,
      "_view_module": "@jupyter-widgets/base",
      "_view_module_version": "1.2.0",
      "_view_name": "LayoutView",
      "align_content": null,
      "align_items": null,
      "align_self": null,
      "border": null,
      "bottom": null,
      "display": null,
      "flex": null,
      "flex_flow": null,
      "grid_area": null,
      "grid_auto_columns": null,
      "grid_auto_flow": null,
      "grid_auto_rows": null,
      "grid_column": null,
      "grid_gap": null,
      "grid_row": null,
      "grid_template_areas": null,
      "grid_template_columns": null,
      "grid_template_rows": null,
      "height": null,
      "justify_content": null,
      "justify_items": null,
      "left": null,
      "margin": null,
      "max_height": null,
      "max_width": null,
      "min_height": null,
      "min_width": null,
      "object_fit": null,
      "object_position": null,
      "order": null,
      "overflow": null,
      "overflow_x": null,
      "overflow_y": null,
      "padding": null,
      "right": null,
      "top": null,
      "visibility": null,
      "width": null
     }
    },
    "e19dcab404dc4319ba8e261160cee2b9": {
     "model_module": "@jupyter-widgets/controls",
     "model_module_version": "1.5.0",
     "model_name": "FloatProgressModel",
     "state": {
      "_dom_classes": [],
      "_model_module": "@jupyter-widgets/controls",
      "_model_module_version": "1.5.0",
      "_model_name": "FloatProgressModel",
      "_view_count": null,
      "_view_module": "@jupyter-widgets/controls",
      "_view_module_version": "1.5.0",
      "_view_name": "ProgressView",
      "bar_style": "success",
      "description": "",
      "description_tooltip": null,
      "layout": "IPY_MODEL_150d5a5ffdd3454cae8bf31be595d4a9",
      "max": 127219,
      "min": 0,
      "orientation": "horizontal",
      "style": "IPY_MODEL_17ede645e0ba4fb493c893564a4c6ca0",
      "value": 127219
     }
    },
    "e515dcb84207479c8203eaf2ca1658b4": {
     "model_module": "@jupyter-widgets/base",
     "model_module_version": "1.2.0",
     "model_name": "LayoutModel",
     "state": {
      "_model_module": "@jupyter-widgets/base",
      "_model_module_version": "1.2.0",
      "_model_name": "LayoutModel",
      "_view_count": null,
      "_view_module": "@jupyter-widgets/base",
      "_view_module_version": "1.2.0",
      "_view_name": "LayoutView",
      "align_content": null,
      "align_items": null,
      "align_self": null,
      "border": null,
      "bottom": null,
      "display": null,
      "flex": null,
      "flex_flow": null,
      "grid_area": null,
      "grid_auto_columns": null,
      "grid_auto_flow": null,
      "grid_auto_rows": null,
      "grid_column": null,
      "grid_gap": null,
      "grid_row": null,
      "grid_template_areas": null,
      "grid_template_columns": null,
      "grid_template_rows": null,
      "height": null,
      "justify_content": null,
      "justify_items": null,
      "left": null,
      "margin": null,
      "max_height": null,
      "max_width": null,
      "min_height": null,
      "min_width": null,
      "object_fit": null,
      "object_position": null,
      "order": null,
      "overflow": null,
      "overflow_x": null,
      "overflow_y": null,
      "padding": null,
      "right": null,
      "top": null,
      "visibility": null,
      "width": null
     }
    },
    "eeaca6ba8923471390edcfb75b822c40": {
     "model_module": "@jupyter-widgets/controls",
     "model_module_version": "1.5.0",
     "model_name": "HTMLModel",
     "state": {
      "_dom_classes": [],
      "_model_module": "@jupyter-widgets/controls",
      "_model_module_version": "1.5.0",
      "_model_name": "HTMLModel",
      "_view_count": null,
      "_view_module": "@jupyter-widgets/controls",
      "_view_module_version": "1.5.0",
      "_view_name": "HTMLView",
      "description": "",
      "description_tooltip": null,
      "layout": "IPY_MODEL_af1c1d35e2334fe5ab0f2a7c222268bb",
      "placeholder": "​",
      "style": "IPY_MODEL_45fac75f21b84bdc9e754d4201509ec0",
      "value": " 2.44k/2.44k [00:00&lt;00:00, 183kB/s]"
     }
    },
    "f194f06cd01343f3a956b957843c2b3c": {
     "model_module": "@jupyter-widgets/controls",
     "model_module_version": "1.5.0",
     "model_name": "DescriptionStyleModel",
     "state": {
      "_model_module": "@jupyter-widgets/controls",
      "_model_module_version": "1.5.0",
      "_model_name": "DescriptionStyleModel",
      "_view_count": null,
      "_view_module": "@jupyter-widgets/base",
      "_view_module_version": "1.2.0",
      "_view_name": "StyleView",
      "description_width": ""
     }
    },
    "f2b7a0da5a9946fb8fc13dd6c3cff01c": {
     "model_module": "@jupyter-widgets/controls",
     "model_module_version": "1.5.0",
     "model_name": "HTMLModel",
     "state": {
      "_dom_classes": [],
      "_model_module": "@jupyter-widgets/controls",
      "_model_module_version": "1.5.0",
      "_model_name": "HTMLModel",
      "_view_count": null,
      "_view_module": "@jupyter-widgets/controls",
      "_view_module_version": "1.5.0",
      "_view_name": "HTMLView",
      "description": "",
      "description_tooltip": null,
      "layout": "IPY_MODEL_389ef3eee5944cc584b331ace7178bc8",
      "placeholder": "​",
      "style": "IPY_MODEL_2acdc78afd33476880ebc95a3d515d8b",
      "value": " 806/806 [00:00&lt;00:00, 70.1kB/s]"
     }
    },
    "f5b8d14037eb4f3ba55d2aac78cb6f02": {
     "model_module": "@jupyter-widgets/controls",
     "model_module_version": "1.5.0",
     "model_name": "DescriptionStyleModel",
     "state": {
      "_model_module": "@jupyter-widgets/controls",
      "_model_module_version": "1.5.0",
      "_model_name": "DescriptionStyleModel",
      "_view_count": null,
      "_view_module": "@jupyter-widgets/base",
      "_view_module_version": "1.2.0",
      "_view_name": "StyleView",
      "description_width": ""
     }
    },
    "f5db37a5655b4f5c84c807dfc284cada": {
     "model_module": "@jupyter-widgets/base",
     "model_module_version": "1.2.0",
     "model_name": "LayoutModel",
     "state": {
      "_model_module": "@jupyter-widgets/base",
      "_model_module_version": "1.2.0",
      "_model_name": "LayoutModel",
      "_view_count": null,
      "_view_module": "@jupyter-widgets/base",
      "_view_module_version": "1.2.0",
      "_view_name": "LayoutView",
      "align_content": null,
      "align_items": null,
      "align_self": null,
      "border": null,
      "bottom": null,
      "display": null,
      "flex": null,
      "flex_flow": null,
      "grid_area": null,
      "grid_auto_columns": null,
      "grid_auto_flow": null,
      "grid_auto_rows": null,
      "grid_column": null,
      "grid_gap": null,
      "grid_row": null,
      "grid_template_areas": null,
      "grid_template_columns": null,
      "grid_template_rows": null,
      "height": null,
      "justify_content": null,
      "justify_items": null,
      "left": null,
      "margin": null,
      "max_height": null,
      "max_width": null,
      "min_height": null,
      "min_width": null,
      "object_fit": null,
      "object_position": null,
      "order": null,
      "overflow": null,
      "overflow_x": null,
      "overflow_y": null,
      "padding": null,
      "right": null,
      "top": null,
      "visibility": null,
      "width": null
     }
    },
    "f6e760cf0aa342b48763d4636331f942": {
     "model_module": "@jupyter-widgets/controls",
     "model_module_version": "1.5.0",
     "model_name": "HTMLModel",
     "state": {
      "_dom_classes": [],
      "_model_module": "@jupyter-widgets/controls",
      "_model_module_version": "1.5.0",
      "_model_name": "HTMLModel",
      "_view_count": null,
      "_view_module": "@jupyter-widgets/controls",
      "_view_module_version": "1.5.0",
      "_view_name": "HTMLView",
      "description": "",
      "description_tooltip": null,
      "layout": "IPY_MODEL_afc7af47f8fb48cdb37be744019e984b",
      "placeholder": "​",
      "style": "IPY_MODEL_2317994833774b3abc1027fb00388847",
      "value": "modeling_florence2.py: 100%"
     }
    },
    "f8804af54e00458ead57f4ace27bb72b": {
     "model_module": "@jupyter-widgets/controls",
     "model_module_version": "1.5.0",
     "model_name": "DescriptionStyleModel",
     "state": {
      "_model_module": "@jupyter-widgets/controls",
      "_model_module_version": "1.5.0",
      "_model_name": "DescriptionStyleModel",
      "_view_count": null,
      "_view_module": "@jupyter-widgets/base",
      "_view_module_version": "1.2.0",
      "_view_name": "StyleView",
      "description_width": ""
     }
    },
    "fce6c84ac1574aad93367ffee4ed0e79": {
     "model_module": "@jupyter-widgets/controls",
     "model_module_version": "1.5.0",
     "model_name": "HBoxModel",
     "state": {
      "_dom_classes": [],
      "_model_module": "@jupyter-widgets/controls",
      "_model_module_version": "1.5.0",
      "_model_name": "HBoxModel",
      "_view_count": null,
      "_view_module": "@jupyter-widgets/controls",
      "_view_module_version": "1.5.0",
      "_view_name": "HBoxView",
      "box_style": "",
      "children": [
       "IPY_MODEL_6c913f5f53274e43b19c0ec578476733",
       "IPY_MODEL_04f6e100b3e94218a2f02881a7a7642e",
       "IPY_MODEL_8cb7e3f0215243aab9f38cf192b72882"
      ],
      "layout": "IPY_MODEL_83b662893a704ce7add538cacf9c8f9a"
     }
    },
    "fd44d7a30d614edfb90dfaa857153bf0": {
     "model_module": "@jupyter-widgets/controls",
     "model_module_version": "1.5.0",
     "model_name": "FloatProgressModel",
     "state": {
      "_dom_classes": [],
      "_model_module": "@jupyter-widgets/controls",
      "_model_module_version": "1.5.0",
      "_model_name": "FloatProgressModel",
      "_view_count": null,
      "_view_module": "@jupyter-widgets/controls",
      "_view_module_version": "1.5.0",
      "_view_name": "ProgressView",
      "bar_style": "success",
      "description": "",
      "description_tooltip": null,
      "layout": "IPY_MODEL_2a903be01e5b4067a3ed85d993698fa8",
      "max": 1543107459,
      "min": 0,
      "orientation": "horizontal",
      "style": "IPY_MODEL_92472178517e4509891e649f9f362ff3",
      "value": 1543107459
     }
    },
    "fec3268b77e24775bf10404ff710ad1f": {
     "model_module": "@jupyter-widgets/base",
     "model_module_version": "1.2.0",
     "model_name": "LayoutModel",
     "state": {
      "_model_module": "@jupyter-widgets/base",
      "_model_module_version": "1.2.0",
      "_model_name": "LayoutModel",
      "_view_count": null,
      "_view_module": "@jupyter-widgets/base",
      "_view_module_version": "1.2.0",
      "_view_name": "LayoutView",
      "align_content": null,
      "align_items": null,
      "align_self": null,
      "border": null,
      "bottom": null,
      "display": null,
      "flex": null,
      "flex_flow": null,
      "grid_area": null,
      "grid_auto_columns": null,
      "grid_auto_flow": null,
      "grid_auto_rows": null,
      "grid_column": null,
      "grid_gap": null,
      "grid_row": null,
      "grid_template_areas": null,
      "grid_template_columns": null,
      "grid_template_rows": null,
      "height": null,
      "justify_content": null,
      "justify_items": null,
      "left": null,
      "margin": null,
      "max_height": null,
      "max_width": null,
      "min_height": null,
      "min_width": null,
      "object_fit": null,
      "object_position": null,
      "order": null,
      "overflow": null,
      "overflow_x": null,
      "overflow_y": null,
      "padding": null,
      "right": null,
      "top": null,
      "visibility": null,
      "width": null
     }
    }
   }
  }
 },
 "nbformat": 4,
 "nbformat_minor": 4
}
